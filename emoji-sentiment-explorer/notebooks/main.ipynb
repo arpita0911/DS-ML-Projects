{
 "cells": [
  {
   "cell_type": "markdown",
   "id": "a6012d45",
   "metadata": {},
   "source": [
    "### Dataset"
   ]
  },
  {
   "cell_type": "markdown",
   "id": "ee80b1c2",
   "metadata": {},
   "source": [
    "#### Sample dataset"
   ]
  },
  {
   "cell_type": "code",
   "execution_count": null,
   "id": "6afd04e6",
   "metadata": {},
   "outputs": [],
   "source": [
    "import random\n",
    "\n",
    "input_file = \"emojitweets.txt\"\n",
    "output_file = \"sampled_tweets.txt\"\n",
    "\n",
    "sampled_emojitweets = 0.001  \n",
    "\n",
    "with open(input_file, \"r\", encoding=\"utf-8\") as infile, open(output_file, \"w\", encoding=\"utf-8-sig\") as outfile:\n",
    "    for line in infile:\n",
    "        if random.random() < sampled_emojitweets:\n",
    "            outfile.write(line)"
   ]
  },
  {
   "cell_type": "code",
   "execution_count": null,
   "id": "28e24a12",
   "metadata": {},
   "outputs": [],
   "source": [
    "import csv\n",
    "\n",
    "input_file = \"sampled_tweets.txt\"\n",
    "output_file = \"emojitweets.csv\"\n",
    "\n",
    "with open(input_file, \"r\", encoding=\"utf-8-sig\") as infile, open(output_file, \"w\", newline=\"\", encoding=\"utf-8-sig\") as outfile:\n",
    "    writer = csv.writer(outfile)\n",
    "    writer.writerow([\"tweet\"])  \n",
    "    \n",
    "    for line in infile:\n",
    "        line = line.strip()\n",
    "        if line:  \n",
    "            writer.writerow([line])\n"
   ]
  },
  {
   "cell_type": "markdown",
   "id": "6494b9fc",
   "metadata": {},
   "source": [
    "### Preprocessing"
   ]
  },
  {
   "cell_type": "markdown",
   "id": "18a01025",
   "metadata": {},
   "source": [
    "#### Create emoji and text columns"
   ]
  },
  {
   "cell_type": "code",
   "execution_count": 1,
   "id": "d2343a49",
   "metadata": {},
   "outputs": [],
   "source": [
    "import pandas as pd\n",
    "import emoji\n",
    "\n",
    "df = pd.read_csv(\"emojitweets.csv\")\n",
    "\n",
    "def extract_emojis(s):\n",
    "    return ''.join(c for c in s if emoji.is_emoji(c))\n",
    "\n",
    "def remove_emojis(s):\n",
    "    return ''.join(c for c in s if not emoji.is_emoji(c))\n",
    "\n",
    "df['emoji'] = df['tweet'].apply(lambda x: extract_emojis(str(x)))\n",
    "\n",
    "df['text'] = df['tweet'].apply(lambda x: remove_emojis(str(x)))\n",
    "\n",
    "df.to_csv(\"emojitweets.csv\", index=False, encoding=\"utf-8-sig\")"
   ]
  },
  {
   "cell_type": "code",
   "execution_count": 2,
   "id": "4608d6eb",
   "metadata": {},
   "outputs": [
    {
     "data": {
      "text/html": [
       "<div>\n",
       "<style scoped>\n",
       "    .dataframe tbody tr th:only-of-type {\n",
       "        vertical-align: middle;\n",
       "    }\n",
       "\n",
       "    .dataframe tbody tr th {\n",
       "        vertical-align: top;\n",
       "    }\n",
       "\n",
       "    .dataframe thead th {\n",
       "        text-align: right;\n",
       "    }\n",
       "</style>\n",
       "<table border=\"1\" class=\"dataframe\">\n",
       "  <thead>\n",
       "    <tr style=\"text-align: right;\">\n",
       "      <th></th>\n",
       "      <th>tweet</th>\n",
       "      <th>emoji</th>\n",
       "      <th>text</th>\n",
       "      <th>compound</th>\n",
       "      <th>sentiment</th>\n",
       "    </tr>\n",
       "  </thead>\n",
       "  <tbody>\n",
       "    <tr>\n",
       "      <th>0</th>\n",
       "      <td>I'll give you my number, when you text me, I b...</td>\n",
       "      <td>😂</td>\n",
       "      <td>I'll give you my number, when you text me, I b...</td>\n",
       "      <td>-0.3818</td>\n",
       "      <td>negative</td>\n",
       "    </tr>\n",
       "    <tr>\n",
       "      <th>1</th>\n",
       "      <td>🤣🤣🤣 I approve.</td>\n",
       "      <td>🤣🤣🤣</td>\n",
       "      <td>I approve.</td>\n",
       "      <td>0.0000</td>\n",
       "      <td>neutral</td>\n",
       "    </tr>\n",
       "    <tr>\n",
       "      <th>2</th>\n",
       "      <td>Herb’s been a daddy for less than a week &amp;amp;...</td>\n",
       "      <td>🏆😂😂😂😂😂😂😂😂</td>\n",
       "      <td>Herb’s been a daddy for less than a week &amp;amp;...</td>\n",
       "      <td>0.0000</td>\n",
       "      <td>neutral</td>\n",
       "    </tr>\n",
       "    <tr>\n",
       "      <th>3</th>\n",
       "      <td>Fake news about the demands is now cleared don...</td>\n",
       "      <td>🕺💃</td>\n",
       "      <td>Fake news about the demands is now cleared don...</td>\n",
       "      <td>-0.3085</td>\n",
       "      <td>negative</td>\n",
       "    </tr>\n",
       "    <tr>\n",
       "      <th>4</th>\n",
       "      <td>Keep trying 😂</td>\n",
       "      <td>😂</td>\n",
       "      <td>Keep trying</td>\n",
       "      <td>0.0000</td>\n",
       "      <td>neutral</td>\n",
       "    </tr>\n",
       "  </tbody>\n",
       "</table>\n",
       "</div>"
      ],
      "text/plain": [
       "                                               tweet      emoji  \\\n",
       "0  I'll give you my number, when you text me, I b...          😂   \n",
       "1                                     🤣🤣🤣 I approve.        🤣🤣🤣   \n",
       "2  Herb’s been a daddy for less than a week &amp;...  🏆😂😂😂😂😂😂😂😂   \n",
       "3  Fake news about the demands is now cleared don...         🕺💃   \n",
       "4                                      Keep trying 😂          😂   \n",
       "\n",
       "                                                text  compound sentiment  \n",
       "0  I'll give you my number, when you text me, I b...   -0.3818  negative  \n",
       "1                                         I approve.    0.0000   neutral  \n",
       "2  Herb’s been a daddy for less than a week &amp;...    0.0000   neutral  \n",
       "3  Fake news about the demands is now cleared don...   -0.3085  negative  \n",
       "4                                       Keep trying     0.0000   neutral  "
      ]
     },
     "execution_count": 2,
     "metadata": {},
     "output_type": "execute_result"
    }
   ],
   "source": [
    "df.head()"
   ]
  },
  {
   "cell_type": "markdown",
   "id": "2d90c3eb",
   "metadata": {},
   "source": [
    "#### Data Exploration"
   ]
  },
  {
   "cell_type": "code",
   "execution_count": 3,
   "id": "fe137aa5",
   "metadata": {},
   "outputs": [
    {
     "name": "stdout",
     "output_type": "stream",
     "text": [
      "tweet        False\n",
      "emoji        False\n",
      "text         False\n",
      "compound     False\n",
      "sentiment    False\n",
      "dtype: bool\n"
     ]
    }
   ],
   "source": [
    "print(df.isna().any())"
   ]
  },
  {
   "cell_type": "code",
   "execution_count": 4,
   "id": "a4eeb38b",
   "metadata": {},
   "outputs": [
    {
     "name": "stdout",
     "output_type": "stream",
     "text": [
      "(18989, 5)\n",
      "<class 'pandas.core.frame.DataFrame'>\n",
      "RangeIndex: 18989 entries, 0 to 18988\n",
      "Data columns (total 5 columns):\n",
      " #   Column     Non-Null Count  Dtype  \n",
      "---  ------     --------------  -----  \n",
      " 0   tweet      18989 non-null  object \n",
      " 1   emoji      18989 non-null  object \n",
      " 2   text       18989 non-null  object \n",
      " 3   compound   18989 non-null  float64\n",
      " 4   sentiment  18989 non-null  object \n",
      "dtypes: float64(1), object(4)\n",
      "memory usage: 741.9+ KB\n",
      "None\n"
     ]
    }
   ],
   "source": [
    "print(df.shape)    \n",
    "print(df.info())\n"
   ]
  },
  {
   "cell_type": "markdown",
   "id": "f4ab9526",
   "metadata": {},
   "source": [
    "### Sentiment Analysis of Text Column"
   ]
  },
  {
   "cell_type": "code",
   "execution_count": 5,
   "id": "00708167",
   "metadata": {},
   "outputs": [],
   "source": [
    "from nltk.sentiment.vader import SentimentIntensityAnalyzer\n",
    "\n",
    "df = pd.read_csv(\"emojitweets.csv\")\n",
    "\n",
    "sia = SentimentIntensityAnalyzer()\n",
    "\n",
    "df['compound'] = df['text'].apply(lambda x: sia.polarity_scores(str(x))['compound'])\n",
    "\n",
    "def sentiment_label(compound):\n",
    "    if compound >= 0.05:\n",
    "        return 'positive'\n",
    "    elif compound <= -0.05:\n",
    "        return 'negative'\n",
    "    else:\n",
    "        return 'neutral'\n",
    "\n",
    "df['sentiment'] = df['compound'].apply(sentiment_label)"
   ]
  },
  {
   "cell_type": "code",
   "execution_count": 6,
   "id": "3b4963b6",
   "metadata": {},
   "outputs": [],
   "source": [
    "df.to_csv(\"emojitweets.csv\", index=False, encoding=\"utf-8-sig\")"
   ]
  },
  {
   "cell_type": "code",
   "execution_count": 7,
   "id": "168799cf",
   "metadata": {},
   "outputs": [
    {
     "data": {
      "text/html": [
       "<div>\n",
       "<style scoped>\n",
       "    .dataframe tbody tr th:only-of-type {\n",
       "        vertical-align: middle;\n",
       "    }\n",
       "\n",
       "    .dataframe tbody tr th {\n",
       "        vertical-align: top;\n",
       "    }\n",
       "\n",
       "    .dataframe thead th {\n",
       "        text-align: right;\n",
       "    }\n",
       "</style>\n",
       "<table border=\"1\" class=\"dataframe\">\n",
       "  <thead>\n",
       "    <tr style=\"text-align: right;\">\n",
       "      <th></th>\n",
       "      <th>tweet</th>\n",
       "      <th>emoji</th>\n",
       "      <th>text</th>\n",
       "      <th>compound</th>\n",
       "      <th>sentiment</th>\n",
       "    </tr>\n",
       "  </thead>\n",
       "  <tbody>\n",
       "    <tr>\n",
       "      <th>0</th>\n",
       "      <td>I'll give you my number, when you text me, I b...</td>\n",
       "      <td>😂</td>\n",
       "      <td>I'll give you my number, when you text me, I b...</td>\n",
       "      <td>-0.3818</td>\n",
       "      <td>negative</td>\n",
       "    </tr>\n",
       "    <tr>\n",
       "      <th>1</th>\n",
       "      <td>🤣🤣🤣 I approve.</td>\n",
       "      <td>🤣🤣🤣</td>\n",
       "      <td>I approve.</td>\n",
       "      <td>0.0000</td>\n",
       "      <td>neutral</td>\n",
       "    </tr>\n",
       "    <tr>\n",
       "      <th>2</th>\n",
       "      <td>Herb’s been a daddy for less than a week &amp;amp;...</td>\n",
       "      <td>🏆😂😂😂😂😂😂😂😂</td>\n",
       "      <td>Herb’s been a daddy for less than a week &amp;amp;...</td>\n",
       "      <td>0.0000</td>\n",
       "      <td>neutral</td>\n",
       "    </tr>\n",
       "    <tr>\n",
       "      <th>3</th>\n",
       "      <td>Fake news about the demands is now cleared don...</td>\n",
       "      <td>🕺💃</td>\n",
       "      <td>Fake news about the demands is now cleared don...</td>\n",
       "      <td>-0.3085</td>\n",
       "      <td>negative</td>\n",
       "    </tr>\n",
       "    <tr>\n",
       "      <th>4</th>\n",
       "      <td>Keep trying 😂</td>\n",
       "      <td>😂</td>\n",
       "      <td>Keep trying</td>\n",
       "      <td>0.0000</td>\n",
       "      <td>neutral</td>\n",
       "    </tr>\n",
       "  </tbody>\n",
       "</table>\n",
       "</div>"
      ],
      "text/plain": [
       "                                               tweet      emoji  \\\n",
       "0  I'll give you my number, when you text me, I b...          😂   \n",
       "1                                     🤣🤣🤣 I approve.        🤣🤣🤣   \n",
       "2  Herb’s been a daddy for less than a week &amp;...  🏆😂😂😂😂😂😂😂😂   \n",
       "3  Fake news about the demands is now cleared don...         🕺💃   \n",
       "4                                      Keep trying 😂          😂   \n",
       "\n",
       "                                                text  compound sentiment  \n",
       "0  I'll give you my number, when you text me, I b...   -0.3818  negative  \n",
       "1                                         I approve.    0.0000   neutral  \n",
       "2  Herb’s been a daddy for less than a week &amp;...    0.0000   neutral  \n",
       "3  Fake news about the demands is now cleared don...   -0.3085  negative  \n",
       "4                                       Keep trying     0.0000   neutral  "
      ]
     },
     "execution_count": 7,
     "metadata": {},
     "output_type": "execute_result"
    }
   ],
   "source": [
    "df.head()"
   ]
  },
  {
   "cell_type": "code",
   "execution_count": 8,
   "id": "5dfaa52a",
   "metadata": {},
   "outputs": [
    {
     "name": "stdout",
     "output_type": "stream",
     "text": [
      "sentiment\n",
      "positive    8727\n",
      "neutral     7274\n",
      "negative    2988\n",
      "Name: count, dtype: int64\n"
     ]
    }
   ],
   "source": [
    "sentiment_counts = df['sentiment'].value_counts()\n",
    "print(sentiment_counts)"
   ]
  },
  {
   "cell_type": "code",
   "execution_count": 9,
   "id": "d7c0cabe",
   "metadata": {},
   "outputs": [
    {
     "data": {
      "image/png": "[encoded data removed]",
      "text/plain": [
       "<Figure size 300x300 with 1 Axes>"
      ]
     },
     "metadata": {},
     "output_type": "display_data"
    }
   ],
   "source": [
    "import matplotlib.pyplot as plt\n",
    "plt.figure(figsize=(3,3))\n",
    "plt.pie(sentiment_counts, labels=sentiment_counts.index, autopct='%1.1f%%', colors=[\"#2c6fb3\",\"#c45a5a\",\"#5bce5b\"])\n",
    "plt.title('Sentiment Distribution of tweet text')\n",
    "plt.show()\n"
   ]
  },
  {
   "cell_type": "markdown",
   "id": "23831d1c",
   "metadata": {},
   "source": [
    "### Assigning Sentiment to Emojis"
   ]
  },
  {
   "cell_type": "code",
   "execution_count": 10,
   "id": "57b27345",
   "metadata": {},
   "outputs": [
    {
     "name": "stdout",
     "output_type": "stream",
     "text": [
      "  emoji  count  positive_%  neutral_%  negative_%\n",
      "0     😂   2491        33.2       40.3        26.5\n",
      "1     🤣    274        29.9       44.5        25.5\n",
      "2     🏆    123        65.9       29.3         4.9\n",
      "3     🕺     28        42.9       42.9        14.3\n",
      "4     💃     38        34.2       52.6        13.2\n"
     ]
    }
   ],
   "source": [
    "from collections import defaultdict\n",
    "\n",
    "emoji_sentiments = defaultdict(lambda: {'positive': 0, 'neutral': 0, 'negative': 0})\n",
    "\n",
    "for idx, row in df.iterrows():\n",
    "    if pd.isna(row['emoji']):\n",
    "        continue  \n",
    "    emojis_in_row = set(row['emoji'])  \n",
    "    sentiment = row['sentiment']\n",
    "    for e in emojis_in_row:\n",
    "        emoji_sentiments[e][sentiment] += 1\n",
    "\n",
    "rows = []\n",
    "for e, counts in emoji_sentiments.items():\n",
    "    total = sum(counts.values())\n",
    "    percentages = {s: round((c/total)*100, 1) for s, c in counts.items()}\n",
    "    rows.append({\n",
    "        'emoji': e,\n",
    "        'count': total, \n",
    "        'positive_%': percentages['positive'],\n",
    "        'neutral_%': percentages['neutral'],\n",
    "        'negative_%': percentages['negative']\n",
    "    })\n",
    "\n",
    "emoji_df = pd.DataFrame(rows)\n",
    "\n",
    "emoji_df.to_csv(\"emoji_sentiment_stats.csv\", index=False,encoding=\"utf-8-sig\")\n",
    "\n",
    "print(emoji_df.head())\n"
   ]
  },
  {
   "cell_type": "markdown",
   "id": "107b7f49",
   "metadata": {},
   "source": [
    "### Visualisation"
   ]
  },
  {
   "cell_type": "markdown",
   "id": "4fea68c2",
   "metadata": {},
   "source": [
    "#### Top 20 Emojis by Frequency (Bar Chart)"
   ]
  },
  {
   "cell_type": "code",
   "execution_count": 12,
   "id": "b4fc9427",
   "metadata": {},
   "outputs": [
    {
     "data": {
      "application/vnd.plotly.v1+json": {
       "config": {
        "plotlyServerURL": "https://plot.ly"
       },
       "data": [
        {
         "hovertemplate": "emoji=%{x}<br>count=%{text}<extra></extra>",
         "legendgroup": "",
         "marker": {
          "color": "#636efa",
          "pattern": {
           "shape": ""
          }
         },
         "name": "",
         "orientation": "v",
         "showlegend": false,
         "text": {
          "bdata": "AAAAAAB2o0AAAAAAAECSQAAAAAAAZJBAAAAAAADQi0AAAAAAAMiJQAAAAAAAIH5AAAAAAADQfUAAAAAAAEB8QAAAAAAA0HtAAAAAAACQekAAAAAAADB5QAAAAAAAMHZAAAAAAACQdUAAAAAAAKB0QAAAAAAAIHRAAAAAAAAwc0AAAAAAABBzQAAAAAAA0HJAAAAAAACAckAAAAAAAIBxQA==",
          "dtype": "f8"
         },
         "textposition": "outside",
         "type": "bar",
         "x": [
          "😂",
          "❤",
          "😭",
          "😍",
          "🔥",
          "🏻",
          "🏽",
          "🏾",
          "💕",
          "♀",
          "🙏",
          "😩",
          "✨",
          "🏼",
          "😊",
          "🤷",
          "♂",
          "👉",
          "💯",
          "🙌"
         ],
         "xaxis": "x",
         "y": {
          "bdata": "uwmQBBkEegM5A+IB3QHEAb0BqQGTAWMBWQFKAUIBMwExAS0BKAEYAQ==",
          "dtype": "i2"
         },
         "yaxis": "y"
        }
       ],
       "layout": {
        "barmode": "relative",
        "legend": {
         "tracegroupgap": 0
        },
        "template": {
         "data": {
          "bar": [
           {
            "error_x": {
             "color": "#2a3f5f"
            },
            "error_y": {
             "color": "#2a3f5f"
            },
            "marker": {
             "line": {
              "color": "#E5ECF6",
              "width": 0.5
             },
             "pattern": {
              "fillmode": "overlay",
              "size": 10,
              "solidity": 0.2
             }
            },
            "type": "bar"
           }
          ],
          "barpolar": [
           {
            "marker": {
             "line": {
              "color": "#E5ECF6",
              "width": 0.5
             },
             "pattern": {
              "fillmode": "overlay",
              "size": 10,
              "solidity": 0.2
             }
            },
            "type": "barpolar"
           }
          ],
          "carpet": [
           {
            "aaxis": {
             "endlinecolor": "#2a3f5f",
             "gridcolor": "white",
             "linecolor": "white",
             "minorgridcolor": "white",
             "startlinecolor": "#2a3f5f"
            },
            "baxis": {
             "endlinecolor": "#2a3f5f",
             "gridcolor": "white",
             "linecolor": "white",
             "minorgridcolor": "white",
             "startlinecolor": "#2a3f5f"
            },
            "type": "carpet"
           }
          ],
          "choropleth": [
           {
            "colorbar": {
             "outlinewidth": 0,
             "ticks": ""
            },
            "type": "choropleth"
           }
          ],
          "contour": [
           {
            "colorbar": {
             "outlinewidth": 0,
             "ticks": ""
            },
            "colorscale": [
             [
              0,
              "#0d0887"
             ],
             [
              0.1111111111111111,
              "#46039f"
             ],
             [
              0.2222222222222222,
              "#7201a8"
             ],
             [
              0.3333333333333333,
              "#9c179e"
             ],
             [
              0.4444444444444444,
              "#bd3786"
             ],
             [
              0.5555555555555556,
              "#d8576b"
             ],
             [
              0.6666666666666666,
              "#ed7953"
             ],
             [
              0.7777777777777778,
              "#fb9f3a"
             ],
             [
              0.8888888888888888,
              "#fdca26"
             ],
             [
              1,
              "#f0f921"
             ]
            ],
            "type": "contour"
           }
          ],
          "contourcarpet": [
           {
            "colorbar": {
             "outlinewidth": 0,
             "ticks": ""
            },
            "type": "contourcarpet"
           }
          ],
          "heatmap": [
           {
            "colorbar": {
             "outlinewidth": 0,
             "ticks": ""
            },
            "colorscale": [
             [
              0,
              "#0d0887"
             ],
             [
              0.1111111111111111,
              "#46039f"
             ],
             [
              0.2222222222222222,
              "#7201a8"
             ],
             [
              0.3333333333333333,
              "#9c179e"
             ],
             [
              0.4444444444444444,
              "#bd3786"
             ],
             [
              0.5555555555555556,
              "#d8576b"
             ],
             [
              0.6666666666666666,
              "#ed7953"
             ],
             [
              0.7777777777777778,
              "#fb9f3a"
             ],
             [
              0.8888888888888888,
              "#fdca26"
             ],
             [
              1,
              "#f0f921"
             ]
            ],
            "type": "heatmap"
           }
          ],
          "histogram": [
           {
            "marker": {
             "pattern": {
              "fillmode": "overlay",
              "size": 10,
              "solidity": 0.2
             }
            },
            "type": "histogram"
           }
          ],
          "histogram2d": [
           {
            "colorbar": {
             "outlinewidth": 0,
             "ticks": ""
            },
            "colorscale": [
             [
              0,
              "#0d0887"
             ],
             [
              0.1111111111111111,
              "#46039f"
             ],
             [
              0.2222222222222222,
              "#7201a8"
             ],
             [
              0.3333333333333333,
              "#9c179e"
             ],
             [
              0.4444444444444444,
              "#bd3786"
             ],
             [
              0.5555555555555556,
              "#d8576b"
             ],
             [
              0.6666666666666666,
              "#ed7953"
             ],
             [
              0.7777777777777778,
              "#fb9f3a"
             ],
             [
              0.8888888888888888,
              "#fdca26"
             ],
             [
              1,
              "#f0f921"
             ]
            ],
            "type": "histogram2d"
           }
          ],
          "histogram2dcontour": [
           {
            "colorbar": {
             "outlinewidth": 0,
             "ticks": ""
            },
            "colorscale": [
             [
              0,
              "#0d0887"
             ],
             [
              0.1111111111111111,
              "#46039f"
             ],
             [
              0.2222222222222222,
              "#7201a8"
             ],
             [
              0.3333333333333333,
              "#9c179e"
             ],
             [
              0.4444444444444444,
              "#bd3786"
             ],
             [
              0.5555555555555556,
              "#d8576b"
             ],
             [
              0.6666666666666666,
              "#ed7953"
             ],
             [
              0.7777777777777778,
              "#fb9f3a"
             ],
             [
              0.8888888888888888,
              "#fdca26"
             ],
             [
              1,
              "#f0f921"
             ]
            ],
            "type": "histogram2dcontour"
           }
          ],
          "mesh3d": [
           {
            "colorbar": {
             "outlinewidth": 0,
             "ticks": ""
            },
            "type": "mesh3d"
           }
          ],
          "parcoords": [
           {
            "line": {
             "colorbar": {
              "outlinewidth": 0,
              "ticks": ""
             }
            },
            "type": "parcoords"
           }
          ],
          "pie": [
           {
            "automargin": true,
            "type": "pie"
           }
          ],
          "scatter": [
           {
            "fillpattern": {
             "fillmode": "overlay",
             "size": 10,
             "solidity": 0.2
            },
            "type": "scatter"
           }
          ],
          "scatter3d": [
           {
            "line": {
             "colorbar": {
              "outlinewidth": 0,
              "ticks": ""
             }
            },
            "marker": {
             "colorbar": {
              "outlinewidth": 0,
              "ticks": ""
             }
            },
            "type": "scatter3d"
           }
          ],
          "scattercarpet": [
           {
            "marker": {
             "colorbar": {
              "outlinewidth": 0,
              "ticks": ""
             }
            },
            "type": "scattercarpet"
           }
          ],
          "scattergeo": [
           {
            "marker": {
             "colorbar": {
              "outlinewidth": 0,
              "ticks": ""
             }
            },
            "type": "scattergeo"
           }
          ],
          "scattergl": [
           {
            "marker": {
             "colorbar": {
              "outlinewidth": 0,
              "ticks": ""
             }
            },
            "type": "scattergl"
           }
          ],
          "scattermap": [
           {
            "marker": {
             "colorbar": {
              "outlinewidth": 0,
              "ticks": ""
             }
            },
            "type": "scattermap"
           }
          ],
          "scattermapbox": [
           {
            "marker": {
             "colorbar": {
              "outlinewidth": 0,
              "ticks": ""
             }
            },
            "type": "scattermapbox"
           }
          ],
          "scatterpolar": [
           {
            "marker": {
             "colorbar": {
              "outlinewidth": 0,
              "ticks": ""
             }
            },
            "type": "scatterpolar"
           }
          ],
          "scatterpolargl": [
           {
            "marker": {
             "colorbar": {
              "outlinewidth": 0,
              "ticks": ""
             }
            },
            "type": "scatterpolargl"
           }
          ],
          "scatterternary": [
           {
            "marker": {
             "colorbar": {
              "outlinewidth": 0,
              "ticks": ""
             }
            },
            "type": "scatterternary"
           }
          ],
          "surface": [
           {
            "colorbar": {
             "outlinewidth": 0,
             "ticks": ""
            },
            "colorscale": [
             [
              0,
              "#0d0887"
             ],
             [
              0.1111111111111111,
              "#46039f"
             ],
             [
              0.2222222222222222,
              "#7201a8"
             ],
             [
              0.3333333333333333,
              "#9c179e"
             ],
             [
              0.4444444444444444,
              "#bd3786"
             ],
             [
              0.5555555555555556,
              "#d8576b"
             ],
             [
              0.6666666666666666,
              "#ed7953"
             ],
             [
              0.7777777777777778,
              "#fb9f3a"
             ],
             [
              0.8888888888888888,
              "#fdca26"
             ],
             [
              1,
              "#f0f921"
             ]
            ],
            "type": "surface"
           }
          ],
          "table": [
           {
            "cells": {
             "fill": {
              "color": "#EBF0F8"
             },
             "line": {
              "color": "white"
             }
            },
            "header": {
             "fill": {
              "color": "#C8D4E3"
             },
             "line": {
              "color": "white"
             }
            },
            "type": "table"
           }
          ]
         },
         "layout": {
          "annotationdefaults": {
           "arrowcolor": "#2a3f5f",
           "arrowhead": 0,
           "arrowwidth": 1
          },
          "autotypenumbers": "strict",
          "coloraxis": {
           "colorbar": {
            "outlinewidth": 0,
            "ticks": ""
           }
          },
          "colorscale": {
           "diverging": [
            [
             0,
             "#8e0152"
            ],
            [
             0.1,
             "#c51b7d"
            ],
            [
             0.2,
             "#de77ae"
            ],
            [
             0.3,
             "#f1b6da"
            ],
            [
             0.4,
             "#fde0ef"
            ],
            [
             0.5,
             "#f7f7f7"
            ],
            [
             0.6,
             "#e6f5d0"
            ],
            [
             0.7,
             "#b8e186"
            ],
            [
             0.8,
             "#7fbc41"
            ],
            [
             0.9,
             "#4d9221"
            ],
            [
             1,
             "#276419"
            ]
           ],
           "sequential": [
            [
             0,
             "#0d0887"
            ],
            [
             0.1111111111111111,
             "#46039f"
            ],
            [
             0.2222222222222222,
             "#7201a8"
            ],
            [
             0.3333333333333333,
             "#9c179e"
            ],
            [
             0.4444444444444444,
             "#bd3786"
            ],
            [
             0.5555555555555556,
             "#d8576b"
            ],
            [
             0.6666666666666666,
             "#ed7953"
            ],
            [
             0.7777777777777778,
             "#fb9f3a"
            ],
            [
             0.8888888888888888,
             "#fdca26"
            ],
            [
             1,
             "#f0f921"
            ]
           ],
           "sequentialminus": [
            [
             0,
             "#0d0887"
            ],
            [
             0.1111111111111111,
             "#46039f"
            ],
            [
             0.2222222222222222,
             "#7201a8"
            ],
            [
             0.3333333333333333,
             "#9c179e"
            ],
            [
             0.4444444444444444,
             "#bd3786"
            ],
            [
             0.5555555555555556,
             "#d8576b"
            ],
            [
             0.6666666666666666,
             "#ed7953"
            ],
            [
             0.7777777777777778,
             "#fb9f3a"
            ],
            [
             0.8888888888888888,
             "#fdca26"
            ],
            [
             1,
             "#f0f921"
            ]
           ]
          },
          "colorway": [
           "#636efa",
           "#EF553B",
           "#00cc96",
           "#ab63fa",
           "#FFA15A",
           "#19d3f3",
           "#FF6692",
           "#B6E880",
           "#FF97FF",
           "#FECB52"
          ],
          "font": {
           "color": "#2a3f5f"
          },
          "geo": {
           "bgcolor": "white",
           "lakecolor": "white",
           "landcolor": "#E5ECF6",
           "showlakes": true,
           "showland": true,
           "subunitcolor": "white"
          },
          "hoverlabel": {
           "align": "left"
          },
          "hovermode": "closest",
          "mapbox": {
           "style": "light"
          },
          "paper_bgcolor": "white",
          "plot_bgcolor": "#E5ECF6",
          "polar": {
           "angularaxis": {
            "gridcolor": "white",
            "linecolor": "white",
            "ticks": ""
           },
           "bgcolor": "#E5ECF6",
           "radialaxis": {
            "gridcolor": "white",
            "linecolor": "white",
            "ticks": ""
           }
          },
          "scene": {
           "xaxis": {
            "backgroundcolor": "#E5ECF6",
            "gridcolor": "white",
            "gridwidth": 2,
            "linecolor": "white",
            "showbackground": true,
            "ticks": "",
            "zerolinecolor": "white"
           },
           "yaxis": {
            "backgroundcolor": "#E5ECF6",
            "gridcolor": "white",
            "gridwidth": 2,
            "linecolor": "white",
            "showbackground": true,
            "ticks": "",
            "zerolinecolor": "white"
           },
           "zaxis": {
            "backgroundcolor": "#E5ECF6",
            "gridcolor": "white",
            "gridwidth": 2,
            "linecolor": "white",
            "showbackground": true,
            "ticks": "",
            "zerolinecolor": "white"
           }
          },
          "shapedefaults": {
           "line": {
            "color": "#2a3f5f"
           }
          },
          "ternary": {
           "aaxis": {
            "gridcolor": "white",
            "linecolor": "white",
            "ticks": ""
           },
           "baxis": {
            "gridcolor": "white",
            "linecolor": "white",
            "ticks": ""
           },
           "bgcolor": "#E5ECF6",
           "caxis": {
            "gridcolor": "white",
            "linecolor": "white",
            "ticks": ""
           }
          },
          "title": {
           "x": 0.05
          },
          "xaxis": {
           "automargin": true,
           "gridcolor": "white",
           "linecolor": "white",
           "ticks": "",
           "title": {
            "standoff": 15
           },
           "zerolinecolor": "white",
           "zerolinewidth": 2
          },
          "yaxis": {
           "automargin": true,
           "gridcolor": "white",
           "linecolor": "white",
           "ticks": "",
           "title": {
            "standoff": 15
           },
           "zerolinecolor": "white",
           "zerolinewidth": 2
          }
         }
        },
        "title": {
         "text": "Top 20 Emojis by Frequency"
        },
        "xaxis": {
         "anchor": "y",
         "domain": [
          0,
          1
         ],
         "title": {
          "text": "emoji"
         }
        },
        "yaxis": {
         "anchor": "x",
         "domain": [
          0,
          1
         ],
         "title": {
          "text": "count"
         }
        }
       }
      }
     },
     "metadata": {},
     "output_type": "display_data"
    }
   ],
   "source": [
    "import plotly.express as px\n",
    "\n",
    "N = 20\n",
    "top_n = emoji_df.sort_values(\"count\", ascending=False).head(N)\n",
    "\n",
    "fig = px.bar(\n",
    "    top_n,\n",
    "    x=\"emoji\",\n",
    "    y=\"count\",\n",
    "    text=\"count\",\n",
    "    title=f\"Top {N} Emojis by Frequency\"\n",
    ")\n",
    "fig.update_traces(textposition=\"outside\")\n",
    "\n",
    "fig.write_html(\"top_20_emojis.html\")\n",
    "\n",
    "fig.show()"
   ]
  },
  {
   "cell_type": "markdown",
   "id": "7b9a11f2",
   "metadata": {},
   "source": [
    "#### Bubble Chart (Emoji vs Count vs Sentiment)"
   ]
  },
  {
   "cell_type": "code",
   "execution_count": 13,
   "id": "b6dd877c",
   "metadata": {},
   "outputs": [
    {
     "data": {
      "application/vnd.plotly.v1+json": {
       "config": {
        "plotlyServerURL": "https://plot.ly"
       },
       "data": [
        {
         "customdata": {
          "bdata": "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",
          "dtype": "f8",
          "shape": "924, 1"
         },
         "hovertemplate": "positive_%=%{x}<br>negative_%=%{y}<br>count=%{marker.size}<br>emoji=%{text}<br>neutral_%=%{customdata[0]}<extra></extra>",
         "legendgroup": "",
         "marker": {
          "color": "#636efa",
          "size": {
           "bdata": "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",
           "dtype": "i2"
          },
          "sizemode": "area",
          "sizeref": 6.2275,
          "symbol": "circle"
         },
         "mode": "markers+text",
         "name": "",
         "orientation": "v",
         "showlegend": false,
         "text": [
          "😂",
          "🤣",
          "🏆",
          "🕺",
          "💃",
          "♀",
          "🤷",
          "🏽",
          "🖤",
          "🏾",
          "✌",
          "😍",
          "😭",
          "📸",
          "🐥",
          "🤦",
          "😒",
          "🏻",
          "🐪",
          "👏",
          "💯",
          "💀",
          "🌸",
          "💕",
          "🔥",
          "🤗",
          "😩",
          "🌒",
          "🚗",
          "🗣",
          "🍓",
          "🧐",
          "📹",
          "😊",
          "💛",
          "👉",
          "😁",
          "😋",
          "💖",
          "❤",
          "📅",
          "🔵",
          "🔴",
          "😎",
          "♂",
          "🤢",
          "😅",
          "™",
          "💔",
          "🙄",
          "©",
          "😡",
          "👑",
          "😢",
          "🌹",
          "🙏",
          "😉",
          "🙌",
          "🌟",
          "👀",
          "🚀",
          "🌼",
          "😮",
          "😘",
          "👈",
          "🙈",
          "🤤",
          "😌",
          "🦍",
          "❗",
          "🍻",
          "🚨",
          "🤞",
          "🙅",
          "⚡",
          "🏿",
          "🤑",
          "♥",
          "😆",
          "😄",
          "🤔",
          "📺",
          "😕",
          "☹",
          "🍿",
          "👶",
          "🎊",
          "🧡",
          "🎉",
          "🎂",
          "📷",
          "😜",
          "😤",
          "👇",
          "🎮",
          "🕰",
          "🖥",
          "💎",
          "🦆",
          "😑",
          "💪",
          "👎",
          "🎈",
          "😳",
          "🌈",
          "🍭",
          "💗",
          "💥",
          "🏏",
          "👌",
          "📚",
          "🔔",
          "⚠",
          "😠",
          "😞",
          "😀",
          "💜",
          "💫",
          "🎁",
          "🤩",
          "🛍",
          "🔗",
          "♨",
          "🙃",
          "✨",
          "😗",
          "🐣",
          "✊",
          "🏼",
          "🎱",
          "🏃",
          "🚅",
          "🏁",
          "⬇",
          "😃",
          "🐺",
          "🐰",
          "‼",
          "😱",
          "✈",
          "☠",
          "🔜",
          "👍",
          "💨",
          "⚽",
          "⁉",
          "😈",
          "🚦",
          "👣",
          "🔑",
          "♻",
          "🌃",
          "🚂",
          "🤧",
          "☺",
          "🤠",
          "🤬",
          "📘",
          "😏",
          "😐",
          "💙",
          "❄",
          "💋",
          "📽",
          "🍀",
          "⛄",
          "🔐",
          "🍵",
          "💐",
          "🎶",
          "😴",
          "🔄",
          "📣",
          "🐭",
          "🐶",
          "🌎",
          "🔨",
          "🌊",
          "📢",
          "🏉",
          "🔁",
          "⭐",
          "🍆",
          "🐨",
          "✅",
          "📲",
          "📞",
          "🐾",
          "🗿",
          "💞",
          "⬆",
          "🐴",
          "☘",
          "🐎",
          "😶",
          "🌴",
          "😔",
          "✔",
          "🍕",
          "🤘",
          "☁",
          "☀",
          "🌐",
          "🕣",
          "⏳",
          "🌍",
          "🤓",
          "🎬",
          "🔞",
          "🔹",
          "😽",
          "🤙",
          "💘",
          "🍸",
          "🔃",
          "🚧",
          "🗳",
          "🦄",
          "📎",
          "👅",
          "😫",
          "➡",
          "🙇",
          "⛔",
          "🚮",
          "💩",
          "🐝",
          "🤨",
          "💚",
          "❌",
          "🤭",
          "💓",
          "🌙",
          "🐐",
          "📊",
          "🤖",
          "🙆",
          "🍇",
          "🔮",
          "🌮",
          "🍔",
          "🤥",
          "🍟",
          "🐔",
          "💑",
          "✍",
          "🙋",
          "🔷",
          "🐯",
          "⏬",
          "👤",
          "🌀",
          "🔫",
          "📈",
          "🤮",
          "🌝",
          "🚫",
          "💦",
          "😖",
          "🦁",
          "👨",
          "🙂",
          "😚",
          "😇",
          "😵",
          "⚾",
          "🆚",
          "🖌",
          "🌻",
          "🆘",
          "🕊",
          "😲",
          "☕",
          "👱",
          "👩",
          "👐",
          "🌺",
          "🧔",
          "🛑",
          "👼",
          "🕍",
          "🔕",
          "🤪",
          "▪",
          "🐉",
          "📌",
          "😷",
          "✂",
          "😪",
          "⬅",
          "🏡",
          "🐷",
          "🌿",
          "😻",
          "🎓",
          "🏀",
          "👻",
          "🔊",
          "☑",
          "💍",
          "⭕",
          "💸",
          "🌚",
          "📍",
          "🌅",
          "🚖",
          "🛫",
          "🎤",
          "📻",
          "▶",
          "😬",
          "📰",
          "🐍",
          "🌵",
          "🥊",
          "🍖",
          "🤒",
          "😸",
          "🌬",
          "🦖",
          "🌲",
          "🍑",
          "☎",
          "📱",
          "🏴",
          "🔬",
          "🔋",
          "☝",
          "🏒",
          "🐧",
          "®",
          "☔",
          "💧",
          "🌞",
          "🆒",
          "🌆",
          "🐮",
          "↗",
          "🐲",
          "🔛",
          "🕌",
          "📋",
          "〽",
          "😛",
          "⏱",
          "🎰",
          "🐇",
          "🤫",
          "💅",
          "👋",
          "🌏",
          "💝",
          "🥤",
          "🐻",
          "😨",
          "🔝",
          "♈",
          "🖕",
          "💣",
          "🎥",
          "❣",
          "🎼",
          "🎍",
          "➖",
          "🍴",
          "🍰",
          "🎩",
          "🅱",
          "🏧",
          "😯",
          "🚶",
          "💼",
          "💰",
          "⚖",
          "🏨",
          "🗓",
          "🌑",
          "🌓",
          "🌔",
          "🌖",
          "🌕",
          "🌘",
          "🌗",
          "🐫",
          "😺",
          "⛪",
          "😝",
          "♋",
          "🐱",
          "🦌",
          "🌌",
          "🏟",
          "➕",
          "🌱",
          "⏰",
          "🧠",
          "✋",
          "↘",
          "😣",
          "🏳",
          "🎀",
          "🏋",
          "🤕",
          "👊",
          "🖐",
          "◀",
          "⚪",
          "🔘",
          "⚫",
          "🕷",
          "🍁",
          "🍃",
          "↪",
          "😥",
          "☂",
          "🌦",
          "🍺",
          "😓",
          "🏵",
          "💢",
          "🐕",
          "🥀",
          "🎭",
          "🔱",
          "👮",
          "↩",
          "🐅",
          "🎧",
          "💻",
          "💡",
          "🎵",
          "🥢",
          "🍲",
          "🥇",
          "🛸",
          "💊",
          "💿",
          "📀",
          "🧟",
          "🐽",
          "💾",
          "🕒",
          "🎟",
          "👹",
          "🕔",
          "🤐",
          "🙊",
          "🙉",
          "👆",
          "🌧",
          "🌷",
          "🥦",
          "🥜",
          "🙁",
          "🐿",
          "🦋",
          "🥪",
          "🕑",
          "🕙",
          "🦊",
          "🥚",
          "🎢",
          "🎙",
          "✏",
          "👁",
          "🤴",
          "🍪",
          "⚔",
          "📔",
          "🔒",
          "🏬",
          "❓",
          "◻",
          "🍌",
          "🐦",
          "⏩",
          "👭",
          "🍽",
          "💄",
          "🏜",
          "🏝",
          "🏄",
          "💉",
          "🎸",
          "⛳",
          "💆",
          "🔌",
          "💵",
          "💌",
          "💟",
          "📨",
          "📦",
          "🚚",
          "🍋",
          "🗽",
          "🍫",
          "⛺",
          "🦈",
          "🥂",
          "♎",
          "🔢",
          "🆓",
          "⛷",
          "🧞",
          "🗻",
          "🍣",
          "🚲",
          "🌾",
          "😹",
          "🛄",
          "👖",
          "🕳",
          "🍊",
          "🦇",
          "🐓",
          "🤡",
          "📝",
          "🛡",
          "🏹",
          "👕",
          "💷",
          "💴",
          "💶",
          "🎇",
          "🎆",
          "🤯",
          "🥐",
          "🍯",
          "🤟",
          "⛸",
          "📮",
          "⏪",
          "🐼",
          "💭",
          "👽",
          "🌠",
          "🧢",
          "🏠",
          "🏘",
          "🏙",
          "👰",
          "🥒",
          "👸",
          "☯",
          "☮",
          "🥃",
          "🍾",
          "🍷",
          "🍹",
          "🥋",
          "💤",
          "🎲",
          "🏰",
          "🐢",
          "🐹",
          "🍢",
          "🐊",
          "👫",
          "🐒",
          "🐌",
          "💁",
          "👠",
          "👄",
          "🌪",
          "🔪",
          "🏌",
          "🖼",
          "👔",
          "👜",
          "🔚",
          "👘",
          "👒",
          "🍉",
          "▫",
          "🌜",
          "🛁",
          "😧",
          "🛠",
          "🐞",
          "🤸",
          "⚒",
          "🥑",
          "⤵",
          "👾",
          "☄",
          "🔺",
          "🗡",
          "🔶",
          "🏈",
          "🤝",
          "↔",
          "😟",
          "🎹",
          "🏭",
          "👓",
          "🐈",
          "🎄",
          "📆",
          "✉",
          "⌚",
          "🎎",
          "🍐",
          "🎃",
          "🗺",
          "⚜",
          "👦",
          "➿",
          "🚴",
          "🐟",
          "🛒",
          "🗨",
          "🤰",
          "🙀",
          "🎛",
          "🧖",
          "🎯",
          "🐸",
          "ℹ",
          "🌳",
          "🍄",
          "⛓",
          "🔻",
          "😰",
          "🚌",
          "👂",
          "👃",
          "🦂",
          "◼",
          "⬛",
          "🛎",
          "👙",
          "🧚",
          "🍂",
          "🐋",
          "⌛",
          "🐆",
          "📉",
          "🚙",
          "🖨",
          "☃",
          "🍼",
          "🛬",
          "🍎",
          "🛰",
          "🔸",
          "🎾",
          "🔼",
          "🎨",
          "🏅",
          "🐙",
          "🚒",
          "🕘",
          "🅰",
          "👬",
          "🥥",
          "🌨",
          "📩",
          "🗑",
          "🦑",
          "👧",
          "🕐",
          "🥈",
          "❕",
          "🦅",
          "⏸",
          "🔆",
          "🍜",
          "🧀",
          "🍏",
          "🦎",
          "🔂",
          "🎻",
          "⛩",
          "🏮",
          "🎐",
          "⚛",
          "🤲",
          "🏎",
          "🔲",
          "😼",
          "🚢",
          "💮",
          "🖊",
          "🤼",
          "💏",
          "🐜",
          "🌤",
          "🍒",
          "👳",
          "🚺",
          "🐁",
          "📖",
          "❇",
          "🕹",
          "😙",
          "🥉",
          "🐖",
          "😦",
          "🥖",
          "🐗",
          "🦉",
          "🧣",
          "🚣",
          "⚙",
          "👯",
          "🎿",
          "🍧",
          "♐",
          "🎣",
          "🚹",
          "📶",
          "✖",
          "🃏",
          "♦",
          "🏺",
          "⛈",
          "🆎",
          "🔭",
          "🎞",
          "👛",
          "♠",
          "😿",
          "🖇",
          "📑",
          "📁",
          "📗",
          "📂",
          "📏",
          "🎒",
          "📕",
          "📃",
          "📐",
          "📄",
          "🈂",
          "🅿",
          "🚾",
          "♿",
          "🈳",
          "📓",
          "🔟",
          "🍳",
          "🌛",
          "🕶",
          "🆕",
          "👿",
          "👪",
          "🏔",
          "🏂",
          "🍥",
          "🤚",
          "👴",
          "👵",
          "🏫",
          "🌄",
          "🚑",
          "🚓",
          "👟",
          "🥛",
          "👺",
          "🐘",
          "◽",
          "📬",
          "🤛",
          "🤜",
          "🚯",
          "🐬",
          "🖖",
          "🤾",
          "🗞",
          "📼",
          "🚪",
          "💲",
          "🔎",
          "🏇",
          "🏐",
          "⬜",
          "🏦",
          "🕯",
          "🍦",
          "🕸",
          "⛅",
          "🔰",
          "🐤",
          "🧜",
          "💳",
          "🏸",
          "🥅",
          "🌋",
          "🔇",
          "📵",
          "📴",
          "🎷",
          "🈺",
          "🔽",
          "🐛",
          "🅾",
          "🌶",
          "🐠",
          "⚓",
          "🙍",
          "🍗",
          "🔈",
          "🔧",
          "🍡",
          "⏯",
          "🍬",
          "🏖",
          "✒",
          "🌥",
          "🗝",
          "🐏",
          "📡",
          "⚕",
          "🔳",
          "🎏",
          "🎳",
          "🆙",
          "👡",
          "🚬",
          "🕕",
          "🆔",
          "🐩",
          "⏭",
          "🍍",
          "🥝",
          "🎺",
          "🥁",
          "📯",
          "🥗",
          "✳",
          "🛀",
          "🐚",
          "☣",
          "💬",
          "🧘",
          "🗒",
          "🎗",
          "🔅",
          "✝",
          "⛵",
          "📛",
          "🚩",
          "❔",
          "🎫",
          "⚰",
          "💹",
          "🌫",
          "🛌",
          "🥔",
          "🚃",
          "🚋",
          "⚱",
          "🚛",
          "🏛",
          "🕓",
          "✴",
          "🍅",
          "♓",
          "🦃",
          "🍩",
          "♣",
          "🧤",
          "🤺",
          "🥕",
          "🍛",
          "🌽",
          "🐑",
          "💇",
          "🚕",
          "🏥",
          "🤵",
          "💠",
          "🐵",
          "🖱",
          "〰",
          "⛽",
          "🎚",
          "🔙",
          "🚽",
          "🚁",
          "🐳",
          "🎪",
          "🗼",
          "🏚",
          "📒",
          "🏢",
          "🕝",
          "🔖",
          "🍮",
          "🌇",
          "💽",
          "🚔",
          "❎",
          "🎴",
          "🎡",
          "💒",
          "🧛",
          "🛩",
          "🎖",
          "🍝",
          "🥙",
          "🔍",
          "⛰",
          "🐂",
          "🚜",
          "⛱",
          "🍨",
          "🚭",
          "🍘",
          "😾",
          "◾",
          "☦",
          "🍈",
          "🏕",
          "🧙",
          "☢",
          "🏞",
          "🎦",
          "🌭",
          "👷",
          "✡",
          "🎠",
          "🚟",
          "🍞"
         ],
         "textposition": "middle center",
         "type": "scatter",
         "x": {
          "bdata": "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",
          "dtype": "f8"
         },
         "xaxis": "x",
         "y": {
          "bdata": "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",
          "dtype": "f8"
         },
         "yaxis": "y"
        }
       ],
       "layout": {
        "legend": {
         "itemsizing": "constant",
         "tracegroupgap": 0
        },
        "template": {
         "data": {
          "bar": [
           {
            "error_x": {
             "color": "#2a3f5f"
            },
            "error_y": {
             "color": "#2a3f5f"
            },
            "marker": {
             "line": {
              "color": "#E5ECF6",
              "width": 0.5
             },
             "pattern": {
              "fillmode": "overlay",
              "size": 10,
              "solidity": 0.2
             }
            },
            "type": "bar"
           }
          ],
          "barpolar": [
           {
            "marker": {
             "line": {
              "color": "#E5ECF6",
              "width": 0.5
             },
             "pattern": {
              "fillmode": "overlay",
              "size": 10,
              "solidity": 0.2
             }
            },
            "type": "barpolar"
           }
          ],
          "carpet": [
           {
            "aaxis": {
             "endlinecolor": "#2a3f5f",
             "gridcolor": "white",
             "linecolor": "white",
             "minorgridcolor": "white",
             "startlinecolor": "#2a3f5f"
            },
            "baxis": {
             "endlinecolor": "#2a3f5f",
             "gridcolor": "white",
             "linecolor": "white",
             "minorgridcolor": "white",
             "startlinecolor": "#2a3f5f"
            },
            "type": "carpet"
           }
          ],
          "choropleth": [
           {
            "colorbar": {
             "outlinewidth": 0,
             "ticks": ""
            },
            "type": "choropleth"
           }
          ],
          "contour": [
           {
            "colorbar": {
             "outlinewidth": 0,
             "ticks": ""
            },
            "colorscale": [
             [
              0,
              "#0d0887"
             ],
             [
              0.1111111111111111,
              "#46039f"
             ],
             [
              0.2222222222222222,
              "#7201a8"
             ],
             [
              0.3333333333333333,
              "#9c179e"
             ],
             [
              0.4444444444444444,
              "#bd3786"
             ],
             [
              0.5555555555555556,
              "#d8576b"
             ],
             [
              0.6666666666666666,
              "#ed7953"
             ],
             [
              0.7777777777777778,
              "#fb9f3a"
             ],
             [
              0.8888888888888888,
              "#fdca26"
             ],
             [
              1,
              "#f0f921"
             ]
            ],
            "type": "contour"
           }
          ],
          "contourcarpet": [
           {
            "colorbar": {
             "outlinewidth": 0,
             "ticks": ""
            },
            "type": "contourcarpet"
           }
          ],
          "heatmap": [
           {
            "colorbar": {
             "outlinewidth": 0,
             "ticks": ""
            },
            "colorscale": [
             [
              0,
              "#0d0887"
             ],
             [
              0.1111111111111111,
              "#46039f"
             ],
             [
              0.2222222222222222,
              "#7201a8"
             ],
             [
              0.3333333333333333,
              "#9c179e"
             ],
             [
              0.4444444444444444,
              "#bd3786"
             ],
             [
              0.5555555555555556,
              "#d8576b"
             ],
             [
              0.6666666666666666,
              "#ed7953"
             ],
             [
              0.7777777777777778,
              "#fb9f3a"
             ],
             [
              0.8888888888888888,
              "#fdca26"
             ],
             [
              1,
              "#f0f921"
             ]
            ],
            "type": "heatmap"
           }
          ],
          "histogram": [
           {
            "marker": {
             "pattern": {
              "fillmode": "overlay",
              "size": 10,
              "solidity": 0.2
             }
            },
            "type": "histogram"
           }
          ],
          "histogram2d": [
           {
            "colorbar": {
             "outlinewidth": 0,
             "ticks": ""
            },
            "colorscale": [
             [
              0,
              "#0d0887"
             ],
             [
              0.1111111111111111,
              "#46039f"
             ],
             [
              0.2222222222222222,
              "#7201a8"
             ],
             [
              0.3333333333333333,
              "#9c179e"
             ],
             [
              0.4444444444444444,
              "#bd3786"
             ],
             [
              0.5555555555555556,
              "#d8576b"
             ],
             [
              0.6666666666666666,
              "#ed7953"
             ],
             [
              0.7777777777777778,
              "#fb9f3a"
             ],
             [
              0.8888888888888888,
              "#fdca26"
             ],
             [
              1,
              "#f0f921"
             ]
            ],
            "type": "histogram2d"
           }
          ],
          "histogram2dcontour": [
           {
            "colorbar": {
             "outlinewidth": 0,
             "ticks": ""
            },
            "colorscale": [
             [
              0,
              "#0d0887"
             ],
             [
              0.1111111111111111,
              "#46039f"
             ],
             [
              0.2222222222222222,
              "#7201a8"
             ],
             [
              0.3333333333333333,
              "#9c179e"
             ],
             [
              0.4444444444444444,
              "#bd3786"
             ],
             [
              0.5555555555555556,
              "#d8576b"
             ],
             [
              0.6666666666666666,
              "#ed7953"
             ],
             [
              0.7777777777777778,
              "#fb9f3a"
             ],
             [
              0.8888888888888888,
              "#fdca26"
             ],
             [
              1,
              "#f0f921"
             ]
            ],
            "type": "histogram2dcontour"
           }
          ],
          "mesh3d": [
           {
            "colorbar": {
             "outlinewidth": 0,
             "ticks": ""
            },
            "type": "mesh3d"
           }
          ],
          "parcoords": [
           {
            "line": {
             "colorbar": {
              "outlinewidth": 0,
              "ticks": ""
             }
            },
            "type": "parcoords"
           }
          ],
          "pie": [
           {
            "automargin": true,
            "type": "pie"
           }
          ],
          "scatter": [
           {
            "fillpattern": {
             "fillmode": "overlay",
             "size": 10,
             "solidity": 0.2
            },
            "type": "scatter"
           }
          ],
          "scatter3d": [
           {
            "line": {
             "colorbar": {
              "outlinewidth": 0,
              "ticks": ""
             }
            },
            "marker": {
             "colorbar": {
              "outlinewidth": 0,
              "ticks": ""
             }
            },
            "type": "scatter3d"
           }
          ],
          "scattercarpet": [
           {
            "marker": {
             "colorbar": {
              "outlinewidth": 0,
              "ticks": ""
             }
            },
            "type": "scattercarpet"
           }
          ],
          "scattergeo": [
           {
            "marker": {
             "colorbar": {
              "outlinewidth": 0,
              "ticks": ""
             }
            },
            "type": "scattergeo"
           }
          ],
          "scattergl": [
           {
            "marker": {
             "colorbar": {
              "outlinewidth": 0,
              "ticks": ""
             }
            },
            "type": "scattergl"
           }
          ],
          "scattermap": [
           {
            "marker": {
             "colorbar": {
              "outlinewidth": 0,
              "ticks": ""
             }
            },
            "type": "scattermap"
           }
          ],
          "scattermapbox": [
           {
            "marker": {
             "colorbar": {
              "outlinewidth": 0,
              "ticks": ""
             }
            },
            "type": "scattermapbox"
           }
          ],
          "scatterpolar": [
           {
            "marker": {
             "colorbar": {
              "outlinewidth": 0,
              "ticks": ""
             }
            },
            "type": "scatterpolar"
           }
          ],
          "scatterpolargl": [
           {
            "marker": {
             "colorbar": {
              "outlinewidth": 0,
              "ticks": ""
             }
            },
            "type": "scatterpolargl"
           }
          ],
          "scatterternary": [
           {
            "marker": {
             "colorbar": {
              "outlinewidth": 0,
              "ticks": ""
             }
            },
            "type": "scatterternary"
           }
          ],
          "surface": [
           {
            "colorbar": {
             "outlinewidth": 0,
             "ticks": ""
            },
            "colorscale": [
             [
              0,
              "#0d0887"
             ],
             [
              0.1111111111111111,
              "#46039f"
             ],
             [
              0.2222222222222222,
              "#7201a8"
             ],
             [
              0.3333333333333333,
              "#9c179e"
             ],
             [
              0.4444444444444444,
              "#bd3786"
             ],
             [
              0.5555555555555556,
              "#d8576b"
             ],
             [
              0.6666666666666666,
              "#ed7953"
             ],
             [
              0.7777777777777778,
              "#fb9f3a"
             ],
             [
              0.8888888888888888,
              "#fdca26"
             ],
             [
              1,
              "#f0f921"
             ]
            ],
            "type": "surface"
           }
          ],
          "table": [
           {
            "cells": {
             "fill": {
              "color": "#EBF0F8"
             },
             "line": {
              "color": "white"
             }
            },
            "header": {
             "fill": {
              "color": "#C8D4E3"
             },
             "line": {
              "color": "white"
             }
            },
            "type": "table"
           }
          ]
         },
         "layout": {
          "annotationdefaults": {
           "arrowcolor": "#2a3f5f",
           "arrowhead": 0,
           "arrowwidth": 1
          },
          "autotypenumbers": "strict",
          "coloraxis": {
           "colorbar": {
            "outlinewidth": 0,
            "ticks": ""
           }
          },
          "colorscale": {
           "diverging": [
            [
             0,
             "#8e0152"
            ],
            [
             0.1,
             "#c51b7d"
            ],
            [
             0.2,
             "#de77ae"
            ],
            [
             0.3,
             "#f1b6da"
            ],
            [
             0.4,
             "#fde0ef"
            ],
            [
             0.5,
             "#f7f7f7"
            ],
            [
             0.6,
             "#e6f5d0"
            ],
            [
             0.7,
             "#b8e186"
            ],
            [
             0.8,
             "#7fbc41"
            ],
            [
             0.9,
             "#4d9221"
            ],
            [
             1,
             "#276419"
            ]
           ],
           "sequential": [
            [
             0,
             "#0d0887"
            ],
            [
             0.1111111111111111,
             "#46039f"
            ],
            [
             0.2222222222222222,
             "#7201a8"
            ],
            [
             0.3333333333333333,
             "#9c179e"
            ],
            [
             0.4444444444444444,
             "#bd3786"
            ],
            [
             0.5555555555555556,
             "#d8576b"
            ],
            [
             0.6666666666666666,
             "#ed7953"
            ],
            [
             0.7777777777777778,
             "#fb9f3a"
            ],
            [
             0.8888888888888888,
             "#fdca26"
            ],
            [
             1,
             "#f0f921"
            ]
           ],
           "sequentialminus": [
            [
             0,
             "#0d0887"
            ],
            [
             0.1111111111111111,
             "#46039f"
            ],
            [
             0.2222222222222222,
             "#7201a8"
            ],
            [
             0.3333333333333333,
             "#9c179e"
            ],
            [
             0.4444444444444444,
             "#bd3786"
            ],
            [
             0.5555555555555556,
             "#d8576b"
            ],
            [
             0.6666666666666666,
             "#ed7953"
            ],
            [
             0.7777777777777778,
             "#fb9f3a"
            ],
            [
             0.8888888888888888,
             "#fdca26"
            ],
            [
             1,
             "#f0f921"
            ]
           ]
          },
          "colorway": [
           "#636efa",
           "#EF553B",
           "#00cc96",
           "#ab63fa",
           "#FFA15A",
           "#19d3f3",
           "#FF6692",
           "#B6E880",
           "#FF97FF",
           "#FECB52"
          ],
          "font": {
           "color": "#2a3f5f"
          },
          "geo": {
           "bgcolor": "white",
           "lakecolor": "white",
           "landcolor": "#E5ECF6",
           "showlakes": true,
           "showland": true,
           "subunitcolor": "white"
          },
          "hoverlabel": {
           "align": "left"
          },
          "hovermode": "closest",
          "mapbox": {
           "style": "light"
          },
          "paper_bgcolor": "white",
          "plot_bgcolor": "#E5ECF6",
          "polar": {
           "angularaxis": {
            "gridcolor": "white",
            "linecolor": "white",
            "ticks": ""
           },
           "bgcolor": "#E5ECF6",
           "radialaxis": {
            "gridcolor": "white",
            "linecolor": "white",
            "ticks": ""
           }
          },
          "scene": {
           "xaxis": {
            "backgroundcolor": "#E5ECF6",
            "gridcolor": "white",
            "gridwidth": 2,
            "linecolor": "white",
            "showbackground": true,
            "ticks": "",
            "zerolinecolor": "white"
           },
           "yaxis": {
            "backgroundcolor": "#E5ECF6",
            "gridcolor": "white",
            "gridwidth": 2,
            "linecolor": "white",
            "showbackground": true,
            "ticks": "",
            "zerolinecolor": "white"
           },
           "zaxis": {
            "backgroundcolor": "#E5ECF6",
            "gridcolor": "white",
            "gridwidth": 2,
            "linecolor": "white",
            "showbackground": true,
            "ticks": "",
            "zerolinecolor": "white"
           }
          },
          "shapedefaults": {
           "line": {
            "color": "#2a3f5f"
           }
          },
          "ternary": {
           "aaxis": {
            "gridcolor": "white",
            "linecolor": "white",
            "ticks": ""
           },
           "baxis": {
            "gridcolor": "white",
            "linecolor": "white",
            "ticks": ""
           },
           "bgcolor": "#E5ECF6",
           "caxis": {
            "gridcolor": "white",
            "linecolor": "white",
            "ticks": ""
           }
          },
          "title": {
           "x": 0.05
          },
          "xaxis": {
           "automargin": true,
           "gridcolor": "white",
           "linecolor": "white",
           "ticks": "",
           "title": {
            "standoff": 15
           },
           "zerolinecolor": "white",
           "zerolinewidth": 2
          },
          "yaxis": {
           "automargin": true,
           "gridcolor": "white",
           "linecolor": "white",
           "ticks": "",
           "title": {
            "standoff": 15
           },
           "zerolinecolor": "white",
           "zerolinewidth": 2
          }
         }
        },
        "title": {
         "text": "Emoji Bubble Chart (Positive% vs Negative% vs Frequency)"
        },
        "xaxis": {
         "anchor": "y",
         "domain": [
          0,
          1
         ],
         "title": {
          "text": "positive_%"
         }
        },
        "yaxis": {
         "anchor": "x",
         "domain": [
          0,
          1
         ],
         "title": {
          "text": "negative_%"
         }
        }
       }
      }
     },
     "metadata": {},
     "output_type": "display_data"
    }
   ],
   "source": [
    "fig = px.scatter(\n",
    "    emoji_df,\n",
    "    x=\"positive_%\",\n",
    "    y=\"negative_%\",\n",
    "    size=\"count\",\n",
    "    text=\"emoji\",\n",
    "    hover_data=[\"neutral_%\"],\n",
    "    title=\"Emoji Bubble Chart (Positive% vs Negative% vs Frequency)\"\n",
    ")\n",
    "fig.update_traces(textposition=\"middle center\")\n",
    "fig.write_html(\"emoji_bubble_chart.html\")\n",
    "\n",
    "fig.show()"
   ]
  },
  {
   "cell_type": "markdown",
   "id": "003e6d20",
   "metadata": {},
   "source": [
    "#### Pie / Donut Chart for Overall Sentiment Distribution"
   ]
  },
  {
   "cell_type": "code",
   "execution_count": 14,
   "id": "45b81be2",
   "metadata": {},
   "outputs": [
    {
     "data": {
      "application/vnd.plotly.v1+json": {
       "config": {
        "plotlyServerURL": "https://plot.ly"
       },
       "data": [
        {
         "domain": {
          "x": [
           0,
           1
          ],
          "y": [
           0,
           1
          ]
         },
         "hole": 0.4,
         "hovertemplate": "label=%{label}<br>value=%{value}<extra></extra>",
         "labels": [
          "Positive",
          "Neutral",
          "Negative"
         ],
         "legendgroup": "",
         "name": "",
         "showlegend": true,
         "type": "pie",
         "values": {
          "bdata": "sXXPyNKTRkCuUNwKxY1FQJ7neZ7neSdA",
          "dtype": "f8"
         }
        }
       ],
       "layout": {
        "legend": {
         "tracegroupgap": 0
        },
        "template": {
         "data": {
          "bar": [
           {
            "error_x": {
             "color": "#2a3f5f"
            },
            "error_y": {
             "color": "#2a3f5f"
            },
            "marker": {
             "line": {
              "color": "#E5ECF6",
              "width": 0.5
             },
             "pattern": {
              "fillmode": "overlay",
              "size": 10,
              "solidity": 0.2
             }
            },
            "type": "bar"
           }
          ],
          "barpolar": [
           {
            "marker": {
             "line": {
              "color": "#E5ECF6",
              "width": 0.5
             },
             "pattern": {
              "fillmode": "overlay",
              "size": 10,
              "solidity": 0.2
             }
            },
            "type": "barpolar"
           }
          ],
          "carpet": [
           {
            "aaxis": {
             "endlinecolor": "#2a3f5f",
             "gridcolor": "white",
             "linecolor": "white",
             "minorgridcolor": "white",
             "startlinecolor": "#2a3f5f"
            },
            "baxis": {
             "endlinecolor": "#2a3f5f",
             "gridcolor": "white",
             "linecolor": "white",
             "minorgridcolor": "white",
             "startlinecolor": "#2a3f5f"
            },
            "type": "carpet"
           }
          ],
          "choropleth": [
           {
            "colorbar": {
             "outlinewidth": 0,
             "ticks": ""
            },
            "type": "choropleth"
           }
          ],
          "contour": [
           {
            "colorbar": {
             "outlinewidth": 0,
             "ticks": ""
            },
            "colorscale": [
             [
              0,
              "#0d0887"
             ],
             [
              0.1111111111111111,
              "#46039f"
             ],
             [
              0.2222222222222222,
              "#7201a8"
             ],
             [
              0.3333333333333333,
              "#9c179e"
             ],
             [
              0.4444444444444444,
              "#bd3786"
             ],
             [
              0.5555555555555556,
              "#d8576b"
             ],
             [
              0.6666666666666666,
              "#ed7953"
             ],
             [
              0.7777777777777778,
              "#fb9f3a"
             ],
             [
              0.8888888888888888,
              "#fdca26"
             ],
             [
              1,
              "#f0f921"
             ]
            ],
            "type": "contour"
           }
          ],
          "contourcarpet": [
           {
            "colorbar": {
             "outlinewidth": 0,
             "ticks": ""
            },
            "type": "contourcarpet"
           }
          ],
          "heatmap": [
           {
            "colorbar": {
             "outlinewidth": 0,
             "ticks": ""
            },
            "colorscale": [
             [
              0,
              "#0d0887"
             ],
             [
              0.1111111111111111,
              "#46039f"
             ],
             [
              0.2222222222222222,
              "#7201a8"
             ],
             [
              0.3333333333333333,
              "#9c179e"
             ],
             [
              0.4444444444444444,
              "#bd3786"
             ],
             [
              0.5555555555555556,
              "#d8576b"
             ],
             [
              0.6666666666666666,
              "#ed7953"
             ],
             [
              0.7777777777777778,
              "#fb9f3a"
             ],
             [
              0.8888888888888888,
              "#fdca26"
             ],
             [
              1,
              "#f0f921"
             ]
            ],
            "type": "heatmap"
           }
          ],
          "histogram": [
           {
            "marker": {
             "pattern": {
              "fillmode": "overlay",
              "size": 10,
              "solidity": 0.2
             }
            },
            "type": "histogram"
           }
          ],
          "histogram2d": [
           {
            "colorbar": {
             "outlinewidth": 0,
             "ticks": ""
            },
            "colorscale": [
             [
              0,
              "#0d0887"
             ],
             [
              0.1111111111111111,
              "#46039f"
             ],
             [
              0.2222222222222222,
              "#7201a8"
             ],
             [
              0.3333333333333333,
              "#9c179e"
             ],
             [
              0.4444444444444444,
              "#bd3786"
             ],
             [
              0.5555555555555556,
              "#d8576b"
             ],
             [
              0.6666666666666666,
              "#ed7953"
             ],
             [
              0.7777777777777778,
              "#fb9f3a"
             ],
             [
              0.8888888888888888,
              "#fdca26"
             ],
             [
              1,
              "#f0f921"
             ]
            ],
            "type": "histogram2d"
           }
          ],
          "histogram2dcontour": [
           {
            "colorbar": {
             "outlinewidth": 0,
             "ticks": ""
            },
            "colorscale": [
             [
              0,
              "#0d0887"
             ],
             [
              0.1111111111111111,
              "#46039f"
             ],
             [
              0.2222222222222222,
              "#7201a8"
             ],
             [
              0.3333333333333333,
              "#9c179e"
             ],
             [
              0.4444444444444444,
              "#bd3786"
             ],
             [
              0.5555555555555556,
              "#d8576b"
             ],
             [
              0.6666666666666666,
              "#ed7953"
             ],
             [
              0.7777777777777778,
              "#fb9f3a"
             ],
             [
              0.8888888888888888,
              "#fdca26"
             ],
             [
              1,
              "#f0f921"
             ]
            ],
            "type": "histogram2dcontour"
           }
          ],
          "mesh3d": [
           {
            "colorbar": {
             "outlinewidth": 0,
             "ticks": ""
            },
            "type": "mesh3d"
           }
          ],
          "parcoords": [
           {
            "line": {
             "colorbar": {
              "outlinewidth": 0,
              "ticks": ""
             }
            },
            "type": "parcoords"
           }
          ],
          "pie": [
           {
            "automargin": true,
            "type": "pie"
           }
          ],
          "scatter": [
           {
            "fillpattern": {
             "fillmode": "overlay",
             "size": 10,
             "solidity": 0.2
            },
            "type": "scatter"
           }
          ],
          "scatter3d": [
           {
            "line": {
             "colorbar": {
              "outlinewidth": 0,
              "ticks": ""
             }
            },
            "marker": {
             "colorbar": {
              "outlinewidth": 0,
              "ticks": ""
             }
            },
            "type": "scatter3d"
           }
          ],
          "scattercarpet": [
           {
            "marker": {
             "colorbar": {
              "outlinewidth": 0,
              "ticks": ""
             }
            },
            "type": "scattercarpet"
           }
          ],
          "scattergeo": [
           {
            "marker": {
             "colorbar": {
              "outlinewidth": 0,
              "ticks": ""
             }
            },
            "type": "scattergeo"
           }
          ],
          "scattergl": [
           {
            "marker": {
             "colorbar": {
              "outlinewidth": 0,
              "ticks": ""
             }
            },
            "type": "scattergl"
           }
          ],
          "scattermap": [
           {
            "marker": {
             "colorbar": {
              "outlinewidth": 0,
              "ticks": ""
             }
            },
            "type": "scattermap"
           }
          ],
          "scattermapbox": [
           {
            "marker": {
             "colorbar": {
              "outlinewidth": 0,
              "ticks": ""
             }
            },
            "type": "scattermapbox"
           }
          ],
          "scatterpolar": [
           {
            "marker": {
             "colorbar": {
              "outlinewidth": 0,
              "ticks": ""
             }
            },
            "type": "scatterpolar"
           }
          ],
          "scatterpolargl": [
           {
            "marker": {
             "colorbar": {
              "outlinewidth": 0,
              "ticks": ""
             }
            },
            "type": "scatterpolargl"
           }
          ],
          "scatterternary": [
           {
            "marker": {
             "colorbar": {
              "outlinewidth": 0,
              "ticks": ""
             }
            },
            "type": "scatterternary"
           }
          ],
          "surface": [
           {
            "colorbar": {
             "outlinewidth": 0,
             "ticks": ""
            },
            "colorscale": [
             [
              0,
              "#0d0887"
             ],
             [
              0.1111111111111111,
              "#46039f"
             ],
             [
              0.2222222222222222,
              "#7201a8"
             ],
             [
              0.3333333333333333,
              "#9c179e"
             ],
             [
              0.4444444444444444,
              "#bd3786"
             ],
             [
              0.5555555555555556,
              "#d8576b"
             ],
             [
              0.6666666666666666,
              "#ed7953"
             ],
             [
              0.7777777777777778,
              "#fb9f3a"
             ],
             [
              0.8888888888888888,
              "#fdca26"
             ],
             [
              1,
              "#f0f921"
             ]
            ],
            "type": "surface"
           }
          ],
          "table": [
           {
            "cells": {
             "fill": {
              "color": "#EBF0F8"
             },
             "line": {
              "color": "white"
             }
            },
            "header": {
             "fill": {
              "color": "#C8D4E3"
             },
             "line": {
              "color": "white"
             }
            },
            "type": "table"
           }
          ]
         },
         "layout": {
          "annotationdefaults": {
           "arrowcolor": "#2a3f5f",
           "arrowhead": 0,
           "arrowwidth": 1
          },
          "autotypenumbers": "strict",
          "coloraxis": {
           "colorbar": {
            "outlinewidth": 0,
            "ticks": ""
           }
          },
          "colorscale": {
           "diverging": [
            [
             0,
             "#8e0152"
            ],
            [
             0.1,
             "#c51b7d"
            ],
            [
             0.2,
             "#de77ae"
            ],
            [
             0.3,
             "#f1b6da"
            ],
            [
             0.4,
             "#fde0ef"
            ],
            [
             0.5,
             "#f7f7f7"
            ],
            [
             0.6,
             "#e6f5d0"
            ],
            [
             0.7,
             "#b8e186"
            ],
            [
             0.8,
             "#7fbc41"
            ],
            [
             0.9,
             "#4d9221"
            ],
            [
             1,
             "#276419"
            ]
           ],
           "sequential": [
            [
             0,
             "#0d0887"
            ],
            [
             0.1111111111111111,
             "#46039f"
            ],
            [
             0.2222222222222222,
             "#7201a8"
            ],
            [
             0.3333333333333333,
             "#9c179e"
            ],
            [
             0.4444444444444444,
             "#bd3786"
            ],
            [
             0.5555555555555556,
             "#d8576b"
            ],
            [
             0.6666666666666666,
             "#ed7953"
            ],
            [
             0.7777777777777778,
             "#fb9f3a"
            ],
            [
             0.8888888888888888,
             "#fdca26"
            ],
            [
             1,
             "#f0f921"
            ]
           ],
           "sequentialminus": [
            [
             0,
             "#0d0887"
            ],
            [
             0.1111111111111111,
             "#46039f"
            ],
            [
             0.2222222222222222,
             "#7201a8"
            ],
            [
             0.3333333333333333,
             "#9c179e"
            ],
            [
             0.4444444444444444,
             "#bd3786"
            ],
            [
             0.5555555555555556,
             "#d8576b"
            ],
            [
             0.6666666666666666,
             "#ed7953"
            ],
            [
             0.7777777777777778,
             "#fb9f3a"
            ],
            [
             0.8888888888888888,
             "#fdca26"
            ],
            [
             1,
             "#f0f921"
            ]
           ]
          },
          "colorway": [
           "#636efa",
           "#EF553B",
           "#00cc96",
           "#ab63fa",
           "#FFA15A",
           "#19d3f3",
           "#FF6692",
           "#B6E880",
           "#FF97FF",
           "#FECB52"
          ],
          "font": {
           "color": "#2a3f5f"
          },
          "geo": {
           "bgcolor": "white",
           "lakecolor": "white",
           "landcolor": "#E5ECF6",
           "showlakes": true,
           "showland": true,
           "subunitcolor": "white"
          },
          "hoverlabel": {
           "align": "left"
          },
          "hovermode": "closest",
          "mapbox": {
           "style": "light"
          },
          "paper_bgcolor": "white",
          "plot_bgcolor": "#E5ECF6",
          "polar": {
           "angularaxis": {
            "gridcolor": "white",
            "linecolor": "white",
            "ticks": ""
           },
           "bgcolor": "#E5ECF6",
           "radialaxis": {
            "gridcolor": "white",
            "linecolor": "white",
            "ticks": ""
           }
          },
          "scene": {
           "xaxis": {
            "backgroundcolor": "#E5ECF6",
            "gridcolor": "white",
            "gridwidth": 2,
            "linecolor": "white",
            "showbackground": true,
            "ticks": "",
            "zerolinecolor": "white"
           },
           "yaxis": {
            "backgroundcolor": "#E5ECF6",
            "gridcolor": "white",
            "gridwidth": 2,
            "linecolor": "white",
            "showbackground": true,
            "ticks": "",
            "zerolinecolor": "white"
           },
           "zaxis": {
            "backgroundcolor": "#E5ECF6",
            "gridcolor": "white",
            "gridwidth": 2,
            "linecolor": "white",
            "showbackground": true,
            "ticks": "",
            "zerolinecolor": "white"
           }
          },
          "shapedefaults": {
           "line": {
            "color": "#2a3f5f"
           }
          },
          "ternary": {
           "aaxis": {
            "gridcolor": "white",
            "linecolor": "white",
            "ticks": ""
           },
           "baxis": {
            "gridcolor": "white",
            "linecolor": "white",
            "ticks": ""
           },
           "bgcolor": "#E5ECF6",
           "caxis": {
            "gridcolor": "white",
            "linecolor": "white",
            "ticks": ""
           }
          },
          "title": {
           "x": 0.05
          },
          "xaxis": {
           "automargin": true,
           "gridcolor": "white",
           "linecolor": "white",
           "ticks": "",
           "title": {
            "standoff": 15
           },
           "zerolinecolor": "white",
           "zerolinewidth": 2
          },
          "yaxis": {
           "automargin": true,
           "gridcolor": "white",
           "linecolor": "white",
           "ticks": "",
           "title": {
            "standoff": 15
           },
           "zerolinecolor": "white",
           "zerolinewidth": 2
          }
         }
        },
        "title": {
         "text": "Overall Sentiment Distribution"
        }
       }
      }
     },
     "metadata": {},
     "output_type": "display_data"
    }
   ],
   "source": [
    "overall = {\n",
    "    \"Positive\": emoji_df[\"positive_%\"].mean(),\n",
    "    \"Neutral\": emoji_df[\"neutral_%\"].mean(),\n",
    "    \"Negative\": emoji_df[\"negative_%\"].mean()\n",
    "}\n",
    "\n",
    "fig = px.pie(\n",
    "    names=list(overall.keys()),\n",
    "    values=list(overall.values()),\n",
    "    hole=0.4,\n",
    "    title=\"Overall Sentiment Distribution\"\n",
    ")\n",
    "fig.write_html(\"sentiment_distribution.html\")\n",
    "fig.show()"
   ]
  },
  {
   "cell_type": "markdown",
   "id": "05744875",
   "metadata": {},
   "source": [
    "#### Emoji Word Cloud (Approximation using Scatter Plot)"
   ]
  },
  {
   "cell_type": "code",
   "execution_count": 15,
   "id": "9d007ba8",
   "metadata": {},
   "outputs": [
    {
     "data": {
      "application/vnd.plotly.v1+json": {
       "config": {
        "plotlyServerURL": "https://plot.ly"
       },
       "data": [
        {
         "hoverinfo": "text",
         "hovertext": "Emoji: 😂<br>Count: 2491<br>Positive: 33.2%<br>Neutral: 40.3%<br>Negative: 26.5%",
         "mode": "text",
         "text": [
          "😂"
         ],
         "textfont": {
          "size": 100
         },
         "type": "scatter",
         "x": [
          0.3745401188473625
         ],
         "y": [
          0.6420316461542878
         ]
        },
        {
         "hoverinfo": "text",
         "hovertext": "Emoji: ❤<br>Count: 1168<br>Positive: 62.8%<br>Neutral: 30.7%<br>Negative: 6.4%",
         "mode": "text",
         "text": [
          "❤"
         ],
         "textfont": {
          "size": 57.511039743075074
         },
         "type": "scatter",
         "x": [
          0.9507143064099162
         ],
         "y": [
          0.08413996499504883
         ]
        },
        {
         "hoverinfo": "text",
         "hovertext": "Emoji: 😭<br>Count: 1049<br>Positive: 36.5%<br>Neutral: 34.3%<br>Negative: 29.2%",
         "mode": "text",
         "text": [
          "😭"
         ],
         "textfont": {
          "size": 53.689281413087116
         },
         "type": "scatter",
         "x": [
          0.7319939418114051
         ],
         "y": [
          0.16162871409461377
         ]
        },
        {
         "hoverinfo": "text",
         "hovertext": "Emoji: 😍<br>Count: 890<br>Positive: 53.4%<br>Neutral: 36.5%<br>Negative: 10.1%",
         "mode": "text",
         "text": [
          "😍"
         ],
         "textfont": {
          "size": 48.58289843436371
         },
         "type": "scatter",
         "x": [
          0.5986584841970366
         ],
         "y": [
          0.8985541885270792
         ]
        },
        {
         "hoverinfo": "text",
         "hovertext": "Emoji: 🔥<br>Count: 825<br>Positive: 45.8%<br>Neutral: 41.6%<br>Negative: 12.6%",
         "mode": "text",
         "text": [
          "🔥"
         ],
         "textfont": {
          "size": 46.495383380168605
         },
         "type": "scatter",
         "x": [
          0.15601864044243652
         ],
         "y": [
          0.6064290596595899
         ]
        },
        {
         "hoverinfo": "text",
         "hovertext": "Emoji: 🏻<br>Count: 482<br>Positive: 51.0%<br>Neutral: 33.8%<br>Negative: 15.1%",
         "mode": "text",
         "text": [
          "🏻"
         ],
         "textfont": {
          "size": 35.47972701726214
         },
         "type": "scatter",
         "x": [
          0.15599452033620265
         ],
         "y": [
          0.009197051616629648
         ]
        },
        {
         "hoverinfo": "text",
         "hovertext": "Emoji: 🏽<br>Count: 477<br>Positive: 38.8%<br>Neutral: 38.2%<br>Negative: 23.1%",
         "mode": "text",
         "text": [
          "🏽"
         ],
         "textfont": {
          "size": 35.31914893617021
         },
         "type": "scatter",
         "x": [
          0.05808361216819946
         ],
         "y": [
          0.1014715428660321
         ]
        },
        {
         "hoverinfo": "text",
         "hovertext": "Emoji: 🏾<br>Count: 452<br>Positive: 43.1%<br>Neutral: 38.1%<br>Negative: 18.8%",
         "mode": "text",
         "text": [
          "🏾"
         ],
         "textfont": {
          "size": 34.51625853071056
         },
         "type": "scatter",
         "x": [
          0.8661761457749352
         ],
         "y": [
          0.6635017691080558
         ]
        },
        {
         "hoverinfo": "text",
         "hovertext": "Emoji: 💕<br>Count: 445<br>Positive: 64.0%<br>Neutral: 30.3%<br>Negative: 5.6%",
         "mode": "text",
         "text": [
          "💕"
         ],
         "textfont": {
          "size": 34.29144921718186
         },
         "type": "scatter",
         "x": [
          0.6011150117432088
         ],
         "y": [
          0.005061583846218687
         ]
        },
        {
         "hoverinfo": "text",
         "hovertext": "Emoji: ♀<br>Count: 425<br>Positive: 36.2%<br>Neutral: 35.5%<br>Negative: 28.2%",
         "mode": "text",
         "text": [
          "♀"
         ],
         "textfont": {
          "size": 33.64913689281413
         },
         "type": "scatter",
         "x": [
          0.7080725777960455
         ],
         "y": [
          0.16080805141749865
         ]
        },
        {
         "hoverinfo": "text",
         "hovertext": "Emoji: 🙏<br>Count: 403<br>Positive: 63.8%<br>Neutral: 30.0%<br>Negative: 6.2%",
         "mode": "text",
         "text": [
          "🙏"
         ],
         "textfont": {
          "size": 32.94259333600964
         },
         "type": "scatter",
         "x": [
          0.020584494295802447
         ],
         "y": [
          0.5487337893665861
         ]
        },
        {
         "hoverinfo": "text",
         "hovertext": "Emoji: 😩<br>Count: 355<br>Positive: 37.5%<br>Neutral: 34.4%<br>Negative: 28.2%",
         "mode": "text",
         "text": [
          "😩"
         ],
         "textfont": {
          "size": 31.4010437575271
         },
         "type": "scatter",
         "x": [
          0.9699098521619943
         ],
         "y": [
          0.6918951976926933
         ]
        },
        {
         "hoverinfo": "text",
         "hovertext": "Emoji: ✨<br>Count: 345<br>Positive: 58.6%<br>Neutral: 35.9%<br>Negative: 5.5%",
         "mode": "text",
         "text": [
          "✨"
         ],
         "textfont": {
          "size": 31.079887595343237
         },
         "type": "scatter",
         "x": [
          0.8324426408004217
         ],
         "y": [
          0.6519612595026005
         ]
        },
        {
         "hoverinfo": "text",
         "hovertext": "Emoji: 🏼<br>Count: 330<br>Positive: 50.0%<br>Neutral: 36.7%<br>Negative: 13.3%",
         "mode": "text",
         "text": [
          "🏼"
         ],
         "textfont": {
          "size": 30.598153352067442
         },
         "type": "scatter",
         "x": [
          0.21233911067827616
         ],
         "y": [
          0.22426930946055978
         ]
        },
        {
         "hoverinfo": "text",
         "hovertext": "Emoji: 😊<br>Count: 322<br>Positive: 65.2%<br>Neutral: 27.3%<br>Negative: 7.5%",
         "mode": "text",
         "text": [
          "😊"
         ],
         "textfont": {
          "size": 30.341228422320356
         },
         "type": "scatter",
         "x": [
          0.18182496720710062
         ],
         "y": [
          0.7121792213475359
         ]
        },
        {
         "hoverinfo": "text",
         "hovertext": "Emoji: 🤷<br>Count: 307<br>Positive: 39.1%<br>Neutral: 34.2%<br>Negative: 26.7%",
         "mode": "text",
         "text": [
          "🤷"
         ],
         "textfont": {
          "size": 29.85949417904456
         },
         "type": "scatter",
         "x": [
          0.18340450985343382
         ],
         "y": [
          0.23724908749680007
         ]
        },
        {
         "hoverinfo": "text",
         "hovertext": "Emoji: ♂<br>Count: 305<br>Positive: 33.8%<br>Neutral: 39.7%<br>Negative: 26.6%",
         "mode": "text",
         "text": [
          "♂"
         ],
         "textfont": {
          "size": 29.79526294660779
         },
         "type": "scatter",
         "x": [
          0.3042422429595377
         ],
         "y": [
          0.3253996981592677
         ]
        },
        {
         "hoverinfo": "text",
         "hovertext": "Emoji: 👉<br>Count: 301<br>Positive: 50.5%<br>Neutral: 40.9%<br>Negative: 8.6%",
         "mode": "text",
         "text": [
          "👉"
         ],
         "textfont": {
          "size": 29.666800481734242
         },
         "type": "scatter",
         "x": [
          0.5247564316322378
         ],
         "y": [
          0.7464914051180241
         ]
        },
        {
         "hoverinfo": "text",
         "hovertext": "Emoji: 💯<br>Count: 296<br>Positive: 43.2%<br>Neutral: 32.8%<br>Negative: 24.0%",
         "mode": "text",
         "text": [
          "💯"
         ],
         "textfont": {
          "size": 29.50622240064231
         },
         "type": "scatter",
         "x": [
          0.43194501864211576
         ],
         "y": [
          0.6496328990472147
         ]
        },
        {
         "hoverinfo": "text",
         "hovertext": "Emoji: 🙌<br>Count: 280<br>Positive: 58.2%<br>Neutral: 32.5%<br>Negative: 9.3%",
         "mode": "text",
         "text": [
          "🙌"
         ],
         "textfont": {
          "size": 28.992372541148136
         },
         "type": "scatter",
         "x": [
          0.2912291401980419
         ],
         "y": [
          0.8492234104941779
         ]
        },
        {
         "hoverinfo": "text",
         "hovertext": "Emoji: 👏<br>Count: 276<br>Positive: 57.2%<br>Neutral: 30.8%<br>Negative: 12.0%",
         "mode": "text",
         "text": [
          "👏"
         ],
         "textfont": {
          "size": 28.86391007627459
         },
         "type": "scatter",
         "x": [
          0.6118528947223795
         ],
         "y": [
          0.6576128923003434
         ]
        },
        {
         "hoverinfo": "text",
         "hovertext": "Emoji: 🤣<br>Count: 274<br>Positive: 29.9%<br>Neutral: 44.5%<br>Negative: 25.5%",
         "mode": "text",
         "text": [
          "🤣"
         ],
         "textfont": {
          "size": 28.799678843837818
         },
         "type": "scatter",
         "x": [
          0.13949386065204183
         ],
         "y": [
          0.5683086033354716
         ]
        },
        {
         "hoverinfo": "text",
         "hovertext": "Emoji: 😘<br>Count: 262<br>Positive: 62.6%<br>Neutral: 29.8%<br>Negative: 7.6%",
         "mode": "text",
         "text": [
          "😘"
         ],
         "textfont": {
          "size": 28.41429144921718
         },
         "type": "scatter",
         "x": [
          0.29214464853521815
         ],
         "y": [
          0.09367476782809248
         ]
        },
        {
         "hoverinfo": "text",
         "hovertext": "Emoji: 🤔<br>Count: 248<br>Positive: 31.9%<br>Neutral: 44.4%<br>Negative: 23.8%",
         "mode": "text",
         "text": [
          "🤔"
         ],
         "textfont": {
          "size": 27.964672822159777
         },
         "type": "scatter",
         "x": [
          0.3663618432936917
         ],
         "y": [
          0.3677158030594335
         ]
        },
        {
         "hoverinfo": "text",
         "hovertext": "Emoji: 🤦<br>Count: 246<br>Positive: 29.3%<br>Neutral: 39.4%<br>Negative: 31.3%",
         "mode": "text",
         "text": [
          "🤦"
         ],
         "textfont": {
          "size": 27.900441589723002
         },
         "type": "scatter",
         "x": [
          0.45606998421703593
         ],
         "y": [
          0.26520236768172545
         ]
        },
        {
         "hoverinfo": "text",
         "hovertext": "Emoji: 💜<br>Count: 243<br>Positive: 67.5%<br>Neutral: 30.0%<br>Negative: 2.5%",
         "mode": "text",
         "text": [
          "💜"
         ],
         "textfont": {
          "size": 27.804094741067843
         },
         "type": "scatter",
         "x": [
          0.7851759613930136
         ],
         "y": [
          0.24398964337908358
         ]
        },
        {
         "hoverinfo": "text",
         "hovertext": "Emoji: 🎉<br>Count: 233<br>Positive: 76.0%<br>Neutral: 21.9%<br>Negative: 2.1%",
         "mode": "text",
         "text": [
          "🎉"
         ],
         "textfont": {
          "size": 27.48293857888398
         },
         "type": "scatter",
         "x": [
          0.19967378215835974
         ],
         "y": [
          0.9730105547524456
         ]
        },
        {
         "hoverinfo": "text",
         "hovertext": "Emoji: 👀<br>Count: 228<br>Positive: 39.0%<br>Neutral: 52.2%<br>Negative: 8.8%",
         "mode": "text",
         "text": [
          "👀"
         ],
         "textfont": {
          "size": 27.32236049779205
         },
         "type": "scatter",
         "x": [
          0.5142344384136116
         ],
         "y": [
          0.3930977246667604
         ]
        },
        {
         "hoverinfo": "text",
         "hovertext": "Emoji: 👍<br>Count: 227<br>Positive: 71.4%<br>Neutral: 24.7%<br>Negative: 4.0%",
         "mode": "text",
         "text": [
          "👍"
         ],
         "textfont": {
          "size": 27.290244881573663
         },
         "type": "scatter",
         "x": [
          0.5924145688620425
         ],
         "y": [
          0.8920465551771133
         ]
        },
        {
         "hoverinfo": "text",
         "hovertext": "Emoji: 💖<br>Count: 221<br>Positive: 65.6%<br>Neutral: 26.7%<br>Negative: 7.7%",
         "mode": "text",
         "text": [
          "💖"
         ],
         "textfont": {
          "size": 27.09755118426335
         },
         "type": "scatter",
         "x": [
          0.046450412719997725
         ],
         "y": [
          0.6311386259972629
         ]
        },
        {
         "hoverinfo": "text",
         "hovertext": "Emoji: 💙<br>Count: 216<br>Positive: 63.4%<br>Neutral: 33.3%<br>Negative: 3.2%",
         "mode": "text",
         "text": [
          "💙"
         ],
         "textfont": {
          "size": 26.936973103171418
         },
         "type": "scatter",
         "x": [
          0.6075448519014384
         ],
         "y": [
          0.7948113035416484
         ]
        },
        {
         "hoverinfo": "text",
         "hovertext": "Emoji: 💀<br>Count: 207<br>Positive: 30.0%<br>Neutral: 36.2%<br>Negative: 33.8%",
         "mode": "text",
         "text": [
          "💀"
         ],
         "textfont": {
          "size": 26.64793255720594
         },
         "type": "scatter",
         "x": [
          0.17052412368729153
         ],
         "y": [
          0.5026370931051921
         ]
        },
        {
         "hoverinfo": "text",
         "hovertext": "Emoji: 💪<br>Count: 203<br>Positive: 46.3%<br>Neutral: 37.9%<br>Negative: 15.8%",
         "mode": "text",
         "text": [
          "💪"
         ],
         "textfont": {
          "size": 26.519470092332398
         },
         "type": "scatter",
         "x": [
          0.06505159298527952
         ],
         "y": [
          0.5769038846263591
         ]
        },
        {
         "hoverinfo": "text",
         "hovertext": "Emoji: 🙄<br>Count: 193<br>Positive: 29.0%<br>Neutral: 34.2%<br>Negative: 36.8%",
         "mode": "text",
         "text": [
          "🙄"
         ],
         "textfont": {
          "size": 26.198313930148537
         },
         "type": "scatter",
         "x": [
          0.9488855372533332
         ],
         "y": [
          0.4925176938188639
         ]
        },
        {
         "hoverinfo": "text",
         "hovertext": "Emoji: 🚨<br>Count: 181<br>Positive: 47.0%<br>Neutral: 35.4%<br>Negative: 17.7%",
         "mode": "text",
         "text": [
          "🚨"
         ],
         "textfont": {
          "size": 25.8129265355279
         },
         "type": "scatter",
         "x": [
          0.9656320330745594
         ],
         "y": [
          0.1952429877980445
         ]
        },
        {
         "hoverinfo": "text",
         "hovertext": "Emoji: 💛<br>Count: 180<br>Positive: 62.2%<br>Neutral: 32.8%<br>Negative: 5.0%",
         "mode": "text",
         "text": [
          "💛"
         ],
         "textfont": {
          "size": 25.780810919309516
         },
         "type": "scatter",
         "x": [
          0.8083973481164611
         ],
         "y": [
          0.7224521152615053
         ]
        },
        {
         "hoverinfo": "text",
         "hovertext": "Emoji: 👌<br>Count: 174<br>Positive: 45.4%<br>Neutral: 44.8%<br>Negative: 9.8%",
         "mode": "text",
         "text": [
          "👌"
         ],
         "textfont": {
          "size": 25.588117221999198
         },
         "type": "scatter",
         "x": [
          0.3046137691733707
         ],
         "y": [
          0.2807723624408558
         ]
        },
        {
         "hoverinfo": "text",
         "hovertext": "Emoji: ‼<br>Count: 171<br>Positive: 40.9%<br>Neutral: 38.0%<br>Negative: 21.1%",
         "mode": "text",
         "text": [
          "‼"
         ],
         "textfont": {
          "size": 25.49177037334404
         },
         "type": "scatter",
         "x": [
          0.09767211400638387
         ],
         "y": [
          0.02431596643145384
         ]
        },
        {
         "hoverinfo": "text",
         "hovertext": "Emoji: 😎<br>Count: 170<br>Positive: 47.1%<br>Neutral: 40.6%<br>Negative: 12.4%",
         "mode": "text",
         "text": [
          "😎"
         ],
         "textfont": {
          "size": 25.45965475712565
         },
         "type": "scatter",
         "x": [
          0.6842330265121569
         ],
         "y": [
          0.6454722959071678
         ]
        },
        {
         "hoverinfo": "text",
         "hovertext": "Emoji: 😁<br>Count: 166<br>Positive: 54.2%<br>Neutral: 30.7%<br>Negative: 15.1%",
         "mode": "text",
         "text": [
          "😁"
         ],
         "textfont": {
          "size": 25.331192292252105
         },
         "type": "scatter",
         "x": [
          0.4401524937396013
         ],
         "y": [
          0.17711067940704894
         ]
        },
        {
         "hoverinfo": "text",
         "hovertext": "Emoji: 😉<br>Count: 164<br>Positive: 49.4%<br>Neutral: 37.2%<br>Negative: 13.4%",
         "mode": "text",
         "text": [
          "😉"
         ],
         "textfont": {
          "size": 25.266961059815337
         },
         "type": "scatter",
         "x": [
          0.12203823484477883
         ],
         "y": [
          0.9404585843529143
         ]
        },
        {
         "hoverinfo": "text",
         "hovertext": "Emoji: ✅<br>Count: 152<br>Positive: 68.4%<br>Neutral: 24.3%<br>Negative: 7.2%",
         "mode": "text",
         "text": [
          "✅"
         ],
         "textfont": {
          "size": 24.8815736651947
         },
         "type": "scatter",
         "x": [
          0.4951769101112702
         ],
         "y": [
          0.9539285770025874
         ]
        },
        {
         "hoverinfo": "text",
         "hovertext": "Emoji: ♥<br>Count: 151<br>Positive: 62.9%<br>Neutral: 32.5%<br>Negative: 4.6%",
         "mode": "text",
         "text": [
          "♥"
         ],
         "textfont": {
          "size": 24.849458048976317
         },
         "type": "scatter",
         "x": [
          0.034388521115218396
         ],
         "y": [
          0.9148643902204485
         ]
        },
        {
         "hoverinfo": "text",
         "hovertext": "Emoji: 💞<br>Count: 150<br>Positive: 60.0%<br>Neutral: 32.0%<br>Negative: 8.0%",
         "mode": "text",
         "text": [
          "💞"
         ],
         "textfont": {
          "size": 24.81734243275793
         },
         "type": "scatter",
         "x": [
          0.9093204020787821
         ],
         "y": [
          0.3701587002554444
         ]
        },
        {
         "hoverinfo": "text",
         "hovertext": "Emoji: 💥<br>Count: 143<br>Positive: 51.0%<br>Neutral: 35.7%<br>Negative: 13.3%",
         "mode": "text",
         "text": [
          "💥"
         ],
         "textfont": {
          "size": 24.592533119229223
         },
         "type": "scatter",
         "x": [
          0.2587799816000169
         ],
         "y": [
          0.015456616528867428
         ]
        },
        {
         "hoverinfo": "text",
         "hovertext": "Emoji: 😅<br>Count: 139<br>Positive: 38.1%<br>Neutral: 40.3%<br>Negative: 21.6%",
         "mode": "text",
         "text": [
          "😅"
         ],
         "textfont": {
          "size": 24.46407065435568
         },
         "type": "scatter",
         "x": [
          0.662522284353982
         ],
         "y": [
          0.9283185625877254
         ]
        },
        {
         "hoverinfo": "text",
         "hovertext": "Emoji: 🎶<br>Count: 133<br>Positive: 50.4%<br>Neutral: 39.8%<br>Negative: 9.8%",
         "mode": "text",
         "text": [
          "🎶"
         ],
         "textfont": {
          "size": 24.271376957045362
         },
         "type": "scatter",
         "x": [
          0.31171107608941095
         ],
         "y": [
          0.42818414831731433
         ]
        },
        {
         "hoverinfo": "text",
         "hovertext": "Emoji: ➡<br>Count: 133<br>Positive: 49.6%<br>Neutral: 42.1%<br>Negative: 8.3%",
         "mode": "text",
         "text": [
          "➡"
         ],
         "textfont": {
          "size": 24.271376957045362
         },
         "type": "scatter",
         "x": [
          0.5200680211778108
         ],
         "y": [
          0.9666548190436696
         ]
        },
        {
         "hoverinfo": "text",
         "hovertext": "Emoji: 👇<br>Count: 131<br>Positive: 47.3%<br>Neutral: 41.2%<br>Negative: 11.5%",
         "mode": "text",
         "text": [
          "👇"
         ],
         "textfont": {
          "size": 24.20714572460859
         },
         "type": "scatter",
         "x": [
          0.5467102793432796
         ],
         "y": [
          0.9636199770892528
         ]
        },
        {
         "hoverinfo": "text",
         "hovertext": "Emoji: 😱<br>Count: 127<br>Positive: 38.6%<br>Neutral: 44.1%<br>Negative: 17.3%",
         "mode": "text",
         "text": [
          "😱"
         ],
         "textfont": {
          "size": 24.078683259735048
         },
         "type": "scatter",
         "x": [
          0.18485445552552704
         ],
         "y": [
          0.8530094554673601
         ]
        },
        {
         "hoverinfo": "text",
         "hovertext": "Emoji: ©<br>Count: 127<br>Positive: 23.6%<br>Neutral: 73.2%<br>Negative: 3.1%",
         "mode": "text",
         "text": [
          "©"
         ],
         "textfont": {
          "size": 24.078683259735048
         },
         "type": "scatter",
         "x": [
          0.9695846277645586
         ],
         "y": [
          0.2944488920695857
         ]
        },
        {
         "hoverinfo": "text",
         "hovertext": "Emoji: 💗<br>Count: 126<br>Positive: 61.9%<br>Neutral: 34.1%<br>Negative: 4.0%",
         "mode": "text",
         "text": [
          "💗"
         ],
         "textfont": {
          "size": 24.04656764351666
         },
         "type": "scatter",
         "x": [
          0.7751328233611146
         ],
         "y": [
          0.38509772860192526
         ]
        },
        {
         "hoverinfo": "text",
         "hovertext": "Emoji: 🗣<br>Count: 124<br>Positive: 37.1%<br>Neutral: 36.3%<br>Negative: 26.6%",
         "mode": "text",
         "text": [
          "🗣"
         ],
         "textfont": {
          "size": 23.98233641107989
         },
         "type": "scatter",
         "x": [
          0.9394989415641891
         ],
         "y": [
          0.8511366715168569
         ]
        },
        {
         "hoverinfo": "text",
         "hovertext": "Emoji: 🏆<br>Count: 123<br>Positive: 65.9%<br>Neutral: 29.3%<br>Negative: 4.9%",
         "mode": "text",
         "text": [
          "🏆"
         ],
         "textfont": {
          "size": 23.9502207948615
         },
         "type": "scatter",
         "x": [
          0.8948273504276488
         ],
         "y": [
          0.31692200515627766
         ]
        },
        {
         "hoverinfo": "text",
         "hovertext": "Emoji: ☺<br>Count: 120<br>Positive: 58.3%<br>Neutral: 31.7%<br>Negative: 10.0%",
         "mode": "text",
         "text": [
          "☺"
         ],
         "textfont": {
          "size": 23.853873946206342
         },
         "type": "scatter",
         "x": [
          0.5978999788110851
         ],
         "y": [
          0.1694927466860925
         ]
        },
        {
         "hoverinfo": "text",
         "hovertext": "Emoji: 😳<br>Count: 119<br>Positive: 35.3%<br>Neutral: 43.7%<br>Negative: 21.0%",
         "mode": "text",
         "text": [
          "😳"
         ],
         "textfont": {
          "size": 23.821758329987958
         },
         "type": "scatter",
         "x": [
          0.9218742350231168
         ],
         "y": [
          0.5568012624583502
         ]
        },
        {
         "hoverinfo": "text",
         "hovertext": "Emoji: 💋<br>Count: 118<br>Positive: 71.2%<br>Neutral: 24.6%<br>Negative: 4.2%",
         "mode": "text",
         "text": [
          "💋"
         ],
         "textfont": {
          "size": 23.78964271376957
         },
         "type": "scatter",
         "x": [
          0.0884925020519195
         ],
         "y": [
          0.936154774160781
         ]
        },
        {
         "hoverinfo": "text",
         "hovertext": "Emoji: 😢<br>Count: 117<br>Positive: 42.7%<br>Neutral: 27.4%<br>Negative: 29.9%",
         "mode": "text",
         "text": [
          "😢"
         ],
         "textfont": {
          "size": 23.757527097551183
         },
         "type": "scatter",
         "x": [
          0.1959828624191452
         ],
         "y": [
          0.696029796674973
         ]
        },
        {
         "hoverinfo": "text",
         "hovertext": "Emoji: 💚<br>Count: 114<br>Positive: 57.0%<br>Neutral: 35.1%<br>Negative: 7.9%",
         "mode": "text",
         "text": [
          "💚"
         ],
         "textfont": {
          "size": 23.661180248896024
         },
         "type": "scatter",
         "x": [
          0.045227288910538066
         ],
         "y": [
          0.570061170089365
         ]
        },
        {
         "hoverinfo": "text",
         "hovertext": "Emoji: 💓<br>Count: 113<br>Positive: 52.2%<br>Neutral: 39.8%<br>Negative: 8.0%",
         "mode": "text",
         "text": [
          "💓"
         ],
         "textfont": {
          "size": 23.62906463267764
         },
         "type": "scatter",
         "x": [
          0.32533033076326434
         ],
         "y": [
          0.09717649377076854
         ]
        },
        {
         "hoverinfo": "text",
         "hovertext": "Emoji: 🤗<br>Count: 110<br>Positive: 64.5%<br>Neutral: 31.8%<br>Negative: 3.6%",
         "mode": "text",
         "text": [
          "🤗"
         ],
         "textfont": {
          "size": 23.53271778402248
         },
         "type": "scatter",
         "x": [
          0.388677289689482
         ],
         "y": [
          0.6150072266991697
         ]
        },
        {
         "hoverinfo": "text",
         "hovertext": "Emoji: 🖤<br>Count: 109<br>Positive: 50.5%<br>Neutral: 39.4%<br>Negative: 10.1%",
         "mode": "text",
         "text": [
          "🖤"
         ],
         "textfont": {
          "size": 23.500602167804097
         },
         "type": "scatter",
         "x": [
          0.2713490317738959
         ],
         "y": [
          0.9900538501042633
         ]
        },
        {
         "hoverinfo": "text",
         "hovertext": "Emoji: 😈<br>Count: 108<br>Positive: 38.9%<br>Neutral: 37.0%<br>Negative: 24.1%",
         "mode": "text",
         "text": [
          "😈"
         ],
         "textfont": {
          "size": 23.46848655158571
         },
         "type": "scatter",
         "x": [
          0.8287375091519293
         ],
         "y": [
          0.14008401523652403
         ]
        },
        {
         "hoverinfo": "text",
         "hovertext": "Emoji: 🌹<br>Count: 106<br>Positive: 58.5%<br>Neutral: 39.6%<br>Negative: 1.9%",
         "mode": "text",
         "text": [
          "🌹"
         ],
         "textfont": {
          "size": 23.404255319148938
         },
         "type": "scatter",
         "x": [
          0.3567533266935893
         ],
         "y": [
          0.5183296523637367
         ]
        },
        {
         "hoverinfo": "text",
         "hovertext": "Emoji: 😏<br>Count: 104<br>Positive: 33.7%<br>Neutral: 49.0%<br>Negative: 17.3%",
         "mode": "text",
         "text": [
          "😏"
         ],
         "textfont": {
          "size": 23.340024086712162
         },
         "type": "scatter",
         "x": [
          0.28093450968738076
         ],
         "y": [
          0.8773730719279554
         ]
        },
        {
         "hoverinfo": "text",
         "hovertext": "Emoji: 👑<br>Count: 103<br>Positive: 53.4%<br>Neutral: 42.7%<br>Negative: 3.9%",
         "mode": "text",
         "text": [
          "👑"
         ],
         "textfont": {
          "size": 23.30790847049378
         },
         "type": "scatter",
         "x": [
          0.5426960831582485
         ],
         "y": [
          0.7407686177542044
         ]
        },
        {
         "hoverinfo": "text",
         "hovertext": "Emoji: 💔<br>Count: 103<br>Positive: 28.2%<br>Neutral: 29.1%<br>Negative: 42.7%",
         "mode": "text",
         "text": [
          "💔"
         ],
         "textfont": {
          "size": 23.30790847049378
         },
         "type": "scatter",
         "x": [
          0.14092422497476265
         ],
         "y": [
          0.697015740995268
         ]
        },
        {
         "hoverinfo": "text",
         "hovertext": "Emoji: 🌟<br>Count: 101<br>Positive: 65.3%<br>Neutral: 31.7%<br>Negative: 3.0%",
         "mode": "text",
         "text": [
          "🌟"
         ],
         "textfont": {
          "size": 23.243677238057003
         },
         "type": "scatter",
         "x": [
          0.8021969807540397
         ],
         "y": [
          0.7024840839871093
         ]
        },
        {
         "hoverinfo": "text",
         "hovertext": "Emoji: 😒<br>Count: 96<br>Positive: 28.1%<br>Neutral: 29.2%<br>Negative: 42.7%",
         "mode": "text",
         "text": [
          "😒"
         ],
         "textfont": {
          "size": 23.083099156965076
         },
         "type": "scatter",
         "x": [
          0.07455064367977082
         ],
         "y": [
          0.35949115121975517
         ]
        },
        {
         "hoverinfo": "text",
         "hovertext": "Emoji: 😌<br>Count: 96<br>Positive: 56.2%<br>Neutral: 27.1%<br>Negative: 16.7%",
         "mode": "text",
         "text": [
          "😌"
         ],
         "textfont": {
          "size": 23.083099156965076
         },
         "type": "scatter",
         "x": [
          0.9868869366005173
         ],
         "y": [
          0.29359184426449336
         ]
        },
        {
         "hoverinfo": "text",
         "hovertext": "Emoji: 🙃<br>Count: 96<br>Positive: 40.6%<br>Neutral: 33.3%<br>Negative: 26.0%",
         "mode": "text",
         "text": [
          "🙃"
         ],
         "textfont": {
          "size": 23.083099156965076
         },
         "type": "scatter",
         "x": [
          0.7722447692966574
         ],
         "y": [
          0.8093611554785136
         ]
        },
        {
         "hoverinfo": "text",
         "hovertext": "Emoji: 💘<br>Count: 92<br>Positive: 57.6%<br>Neutral: 31.5%<br>Negative: 10.9%",
         "mode": "text",
         "text": [
          "💘"
         ],
         "textfont": {
          "size": 22.95463669209153
         },
         "type": "scatter",
         "x": [
          0.1987156815341724
         ],
         "y": [
          0.8101133946791808
         ]
        },
        {
         "hoverinfo": "text",
         "hovertext": "Emoji: 😆<br>Count: 89<br>Positive: 44.9%<br>Neutral: 48.3%<br>Negative: 6.7%",
         "mode": "text",
         "text": [
          "😆"
         ],
         "textfont": {
          "size": 22.85828984343637
         },
         "type": "scatter",
         "x": [
          0.005522117123602399
         ],
         "y": [
          0.8670723185801037
         ]
        },
        {
         "hoverinfo": "text",
         "hovertext": "Emoji: 💦<br>Count: 87<br>Positive: 43.7%<br>Neutral: 39.1%<br>Negative: 17.2%",
         "mode": "text",
         "text": [
          "💦"
         ],
         "textfont": {
          "size": 22.7940586109996
         },
         "type": "scatter",
         "x": [
          0.8154614284548342
         ],
         "y": [
          0.9132405525564713
         ]
        },
        {
         "hoverinfo": "text",
         "hovertext": "Emoji: 😔<br>Count: 85<br>Positive: 29.4%<br>Neutral: 25.9%<br>Negative: 44.7%",
         "mode": "text",
         "text": [
          "😔"
         ],
         "textfont": {
          "size": 22.729827378562828
         },
         "type": "scatter",
         "x": [
          0.7068573438476171
         ],
         "y": [
          0.5113423988609378
         ]
        },
        {
         "hoverinfo": "text",
         "hovertext": "Emoji: 😤<br>Count: 84<br>Positive: 27.4%<br>Neutral: 32.1%<br>Negative: 40.5%",
         "mode": "text",
         "text": [
          "😤"
         ],
         "textfont": {
          "size": 22.69771176234444
         },
         "type": "scatter",
         "x": [
          0.7290071680409873
         ],
         "y": [
          0.5015162946871996
         ]
        },
        {
         "hoverinfo": "text",
         "hovertext": "Emoji: 🌸<br>Count: 83<br>Positive: 57.8%<br>Neutral: 36.1%<br>Negative: 6.0%",
         "mode": "text",
         "text": [
          "🌸"
         ],
         "textfont": {
          "size": 22.665596146126052
         },
         "type": "scatter",
         "x": [
          0.7712703466859457
         ],
         "y": [
          0.7982951789667752
         ]
        },
        {
         "hoverinfo": "text",
         "hovertext": "Emoji: 😋<br>Count: 78<br>Positive: 47.4%<br>Neutral: 35.9%<br>Negative: 16.7%",
         "mode": "text",
         "text": [
          "😋"
         ],
         "textfont": {
          "size": 22.505018065034122
         },
         "type": "scatter",
         "x": [
          0.07404465173409036
         ],
         "y": [
          0.6499639307777652
         ]
        },
        {
         "hoverinfo": "text",
         "hovertext": "Emoji: ❗<br>Count: 77<br>Positive: 45.5%<br>Neutral: 27.3%<br>Negative: 27.3%",
         "mode": "text",
         "text": [
          "❗"
         ],
         "textfont": {
          "size": 22.472902448815738
         },
         "type": "scatter",
         "x": [
          0.3584657285442726
         ],
         "y": [
          0.7019668772577033
         ]
        },
        {
         "hoverinfo": "text",
         "hovertext": "Emoji: ❄<br>Count: 77<br>Positive: 50.6%<br>Neutral: 39.0%<br>Negative: 10.4%",
         "mode": "text",
         "text": [
          "❄"
         ],
         "textfont": {
          "size": 22.472902448815738
         },
         "type": "scatter",
         "x": [
          0.11586905952512971
         ],
         "y": [
          0.795792669436101
         ]
        },
        {
         "hoverinfo": "text",
         "hovertext": "Emoji: 💎<br>Count: 76<br>Positive: 32.9%<br>Neutral: 59.2%<br>Negative: 7.9%",
         "mode": "text",
         "text": [
          "💎"
         ],
         "textfont": {
          "size": 22.44078683259735
         },
         "type": "scatter",
         "x": [
          0.8631034258755935
         ],
         "y": [
          0.8900053418175663
         ]
        },
        {
         "hoverinfo": "text",
         "hovertext": "Emoji: 😀<br>Count: 74<br>Positive: 54.1%<br>Neutral: 40.5%<br>Negative: 5.4%",
         "mode": "text",
         "text": [
          "😀"
         ],
         "textfont": {
          "size": 22.37655560016058
         },
         "type": "scatter",
         "x": [
          0.6232981268275579
         ],
         "y": [
          0.3379951568515358
         ]
        },
        {
         "hoverinfo": "text",
         "hovertext": "Emoji: 🎂<br>Count: 74<br>Positive: 85.1%<br>Neutral: 6.8%<br>Negative: 8.1%",
         "mode": "text",
         "text": [
          "🎂"
         ],
         "textfont": {
          "size": 22.37655560016058
         },
         "type": "scatter",
         "x": [
          0.3308980248526492
         ],
         "y": [
          0.375582952639944
         ]
        },
        {
         "hoverinfo": "text",
         "hovertext": "Emoji: ⚠<br>Count: 74<br>Positive: 45.9%<br>Neutral: 32.4%<br>Negative: 21.6%",
         "mode": "text",
         "text": [
          "⚠"
         ],
         "textfont": {
          "size": 22.37655560016058
         },
         "type": "scatter",
         "x": [
          0.06355835028602363
         ],
         "y": [
          0.093981939840869
         ]
        },
        {
         "hoverinfo": "text",
         "hovertext": "Emoji: 💫<br>Count: 73<br>Positive: 57.5%<br>Neutral: 37.0%<br>Negative: 5.5%",
         "mode": "text",
         "text": [
          "💫"
         ],
         "textfont": {
          "size": 22.34443998394219
         },
         "type": "scatter",
         "x": [
          0.3109823217156622
         ],
         "y": [
          0.578280140996174
         ]
        },
        {
         "hoverinfo": "text",
         "hovertext": "Emoji: 📷<br>Count: 73<br>Positive: 42.5%<br>Neutral: 54.8%<br>Negative: 2.7%",
         "mode": "text",
         "text": [
          "📷"
         ],
         "textfont": {
          "size": 22.34443998394219
         },
         "type": "scatter",
         "x": [
          0.32518332202674705
         ],
         "y": [
          0.035942273796742086
         ]
        },
        {
         "hoverinfo": "text",
         "hovertext": "Emoji: 😜<br>Count: 71<br>Positive: 39.4%<br>Neutral: 42.3%<br>Negative: 18.3%",
         "mode": "text",
         "text": [
          "😜"
         ],
         "textfont": {
          "size": 22.28020875150542
         },
         "type": "scatter",
         "x": [
          0.7296061783380641
         ],
         "y": [
          0.46559801813246016
         ]
        },
        {
         "hoverinfo": "text",
         "hovertext": "Emoji: 📸<br>Count: 71<br>Positive: 33.8%<br>Neutral: 57.7%<br>Negative: 8.5%",
         "mode": "text",
         "text": [
          "📸"
         ],
         "textfont": {
          "size": 22.28020875150542
         },
         "type": "scatter",
         "x": [
          0.6375574713552131
         ],
         "y": [
          0.5426446347075766
         ]
        },
        {
         "hoverinfo": "text",
         "hovertext": "Emoji: 👊<br>Count: 71<br>Positive: 62.0%<br>Neutral: 28.2%<br>Negative: 9.9%",
         "mode": "text",
         "text": [
          "👊"
         ],
         "textfont": {
          "size": 22.28020875150542
         },
         "type": "scatter",
         "x": [
          0.8872127425763265
         ],
         "y": [
          0.2865412521282844
         ]
        },
        {
         "hoverinfo": "text",
         "hovertext": "Emoji: 😇<br>Count: 70<br>Positive: 52.9%<br>Neutral: 40.0%<br>Negative: 7.1%",
         "mode": "text",
         "text": [
          "😇"
         ],
         "textfont": {
          "size": 22.248093135287032
         },
         "type": "scatter",
         "x": [
          0.4722149251619493
         ],
         "y": [
          0.5908332605690108
         ]
        },
        {
         "hoverinfo": "text",
         "hovertext": "Emoji: ✔<br>Count: 70<br>Positive: 51.4%<br>Neutral: 41.4%<br>Negative: 7.1%",
         "mode": "text",
         "text": [
          "✔"
         ],
         "textfont": {
          "size": 22.248093135287032
         },
         "type": "scatter",
         "x": [
          0.1195942459383017
         ],
         "y": [
          0.03050024993904943
         ]
        },
        {
         "hoverinfo": "text",
         "hovertext": "Emoji: 🤘<br>Count: 70<br>Positive: 41.4%<br>Neutral: 42.9%<br>Negative: 15.7%",
         "mode": "text",
         "text": [
          "🤘"
         ],
         "textfont": {
          "size": 22.248093135287032
         },
         "type": "scatter",
         "x": [
          0.713244787222995
         ],
         "y": [
          0.03734818874921442
         ]
        },
        {
         "hoverinfo": "text",
         "hovertext": "Emoji: 😄<br>Count: 69<br>Positive: 62.3%<br>Neutral: 34.8%<br>Negative: 2.9%",
         "mode": "text",
         "text": [
          "😄"
         ],
         "textfont": {
          "size": 22.215977519068648
         },
         "type": "scatter",
         "x": [
          0.7607850486168974
         ],
         "y": [
          0.8226005606596583
         ]
        },
        {
         "hoverinfo": "text",
         "hovertext": "Emoji: ⚡<br>Count: 68<br>Positive: 57.4%<br>Neutral: 33.8%<br>Negative: 8.8%",
         "mode": "text",
         "text": [
          "⚡"
         ],
         "textfont": {
          "size": 22.18386190285026
         },
         "type": "scatter",
         "x": [
          0.5612771975694962
         ],
         "y": [
          0.3601906414112629
         ]
        },
        {
         "hoverinfo": "text",
         "hovertext": "Emoji: ⚽<br>Count: 68<br>Positive: 47.1%<br>Neutral: 48.5%<br>Negative: 4.4%",
         "mode": "text",
         "text": [
          "⚽"
         ],
         "textfont": {
          "size": 22.18386190285026
         },
         "type": "scatter",
         "x": [
          0.770967179954561
         ],
         "y": [
          0.12706051265188478
         ]
        },
        {
         "hoverinfo": "text",
         "hovertext": "Emoji: ✌<br>Count: 67<br>Positive: 55.2%<br>Neutral: 23.9%<br>Negative: 20.9%",
         "mode": "text",
         "text": [
          "✌"
         ],
         "textfont": {
          "size": 22.151746286631877
         },
         "type": "scatter",
         "x": [
          0.49379559636439074
         ],
         "y": [
          0.5222432600548044
         ]
        },
        {
         "hoverinfo": "text",
         "hovertext": "Emoji: 🙈<br>Count: 65<br>Positive: 44.6%<br>Neutral: 43.1%<br>Negative: 12.3%",
         "mode": "text",
         "text": [
          "🙈"
         ],
         "textfont": {
          "size": 22.0875150541951
         },
         "type": "scatter",
         "x": [
          0.5227328293819941
         ],
         "y": [
          0.7699935530986108
         ]
        },
        {
         "hoverinfo": "text",
         "hovertext": "Emoji: 🌻<br>Count: 64<br>Positive: 62.5%<br>Neutral: 34.4%<br>Negative: 3.1%",
         "mode": "text",
         "text": [
          "🌻"
         ],
         "textfont": {
          "size": 22.055399437976718
         },
         "type": "scatter",
         "x": [
          0.42754101835854963
         ],
         "y": [
          0.21582102749684318
         ]
        },
        {
         "hoverinfo": "text",
         "hovertext": "Emoji: 🤪<br>Count: 64<br>Positive: 32.8%<br>Neutral: 46.9%<br>Negative: 20.3%",
         "mode": "text",
         "text": [
          "🤪"
         ],
         "textfont": {
          "size": 22.055399437976718
         },
         "type": "scatter",
         "x": [
          0.02541912674409519
         ],
         "y": [
          0.6228904758190003
         ]
        },
        {
         "hoverinfo": "text",
         "hovertext": "Emoji: 👅<br>Count: 64<br>Positive: 62.5%<br>Neutral: 25.0%<br>Negative: 12.5%",
         "mode": "text",
         "text": [
          "👅"
         ],
         "textfont": {
          "size": 22.055399437976718
         },
         "type": "scatter",
         "x": [
          0.10789142699330445
         ],
         "y": [
          0.085347464993768
         ]
        },
        {
         "hoverinfo": "text",
         "hovertext": "Emoji: ⭐<br>Count: 62<br>Positive: 56.5%<br>Neutral: 38.7%<br>Negative: 4.8%",
         "mode": "text",
         "text": [
          "⭐"
         ],
         "textfont": {
          "size": 21.991168205539942
         },
         "type": "scatter",
         "x": [
          0.03142918568673425
         ],
         "y": [
          0.0516817211686077
         ]
        },
        {
         "hoverinfo": "text",
         "hovertext": "Emoji: 😫<br>Count: 62<br>Positive: 25.8%<br>Neutral: 43.5%<br>Negative: 30.6%",
         "mode": "text",
         "text": [
          "😫"
         ],
         "textfont": {
          "size": 21.991168205539942
         },
         "type": "scatter",
         "x": [
          0.6364104112637804
         ],
         "y": [
          0.531354631568148
         ]
        },
        {
         "hoverinfo": "text",
         "hovertext": "Emoji: 🚀<br>Count: 62<br>Positive: 62.9%<br>Neutral: 33.9%<br>Negative: 3.2%",
         "mode": "text",
         "text": [
          "🚀"
         ],
         "textfont": {
          "size": 21.991168205539942
         },
         "type": "scatter",
         "x": [
          0.3143559810763267
         ],
         "y": [
          0.5406351216101065
         ]
        },
        {
         "hoverinfo": "text",
         "hovertext": "Emoji: 🙂<br>Count: 61<br>Positive: 45.9%<br>Neutral: 36.1%<br>Negative: 18.0%",
         "mode": "text",
         "text": [
          "🙂"
         ],
         "textfont": {
          "size": 21.95905258932156
         },
         "type": "scatter",
         "x": [
          0.5085706911647028
         ],
         "y": [
          0.6374299014982066
         ]
        },
        {
         "hoverinfo": "text",
         "hovertext": "Emoji: 😴<br>Count: 61<br>Positive: 27.9%<br>Neutral: 47.5%<br>Negative: 24.6%",
         "mode": "text",
         "text": [
          "😴"
         ],
         "textfont": {
          "size": 21.95905258932156
         },
         "type": "scatter",
         "x": [
          0.907566473926093
         ],
         "y": [
          0.7260913337226615
         ]
        },
        {
         "hoverinfo": "text",
         "hovertext": "Emoji: 🤤<br>Count: 60<br>Positive: 46.7%<br>Neutral: 36.7%<br>Negative: 16.7%",
         "mode": "text",
         "text": [
          "🤤"
         ],
         "textfont": {
          "size": 21.92693697310317
         },
         "type": "scatter",
         "x": [
          0.24929222914887494
         ],
         "y": [
          0.9758520794625346
         ]
        },
        {
         "hoverinfo": "text",
         "hovertext": "Emoji: 🎁<br>Count: 60<br>Positive: 73.3%<br>Neutral: 20.0%<br>Negative: 6.7%",
         "mode": "text",
         "text": [
          "🎁"
         ],
         "textfont": {
          "size": 21.92693697310317
         },
         "type": "scatter",
         "x": [
          0.41038292303562973
         ],
         "y": [
          0.5163003483011953
         ]
        },
        {
         "hoverinfo": "text",
         "hovertext": "Emoji: ☀<br>Count: 60<br>Positive: 66.7%<br>Neutral: 25.0%<br>Negative: 8.3%",
         "mode": "text",
         "text": [
          "☀"
         ],
         "textfont": {
          "size": 21.92693697310317
         },
         "type": "scatter",
         "x": [
          0.7555511385430487
         ],
         "y": [
          0.32295647294124596
         ]
        },
        {
         "hoverinfo": "text",
         "hovertext": "Emoji: ▶<br>Count: 60<br>Positive: 38.3%<br>Neutral: 55.0%<br>Negative: 6.7%",
         "mode": "text",
         "text": [
          "▶"
         ],
         "textfont": {
          "size": 21.92693697310317
         },
         "type": "scatter",
         "x": [
          0.22879816549162246
         ],
         "y": [
          0.7951861947687037
         ]
        },
        {
         "hoverinfo": "text",
         "hovertext": "Emoji: 🎥<br>Count: 60<br>Positive: 40.0%<br>Neutral: 53.3%<br>Negative: 6.7%",
         "mode": "text",
         "text": [
          "🎥"
         ],
         "textfont": {
          "size": 21.92693697310317
         },
         "type": "scatter",
         "x": [
          0.07697990982879299
         ],
         "y": [
          0.2708322512620742
         ]
        },
        {
         "hoverinfo": "text",
         "hovertext": "Emoji: 🤞<br>Count: 59<br>Positive: 45.8%<br>Neutral: 44.1%<br>Negative: 10.2%",
         "mode": "text",
         "text": [
          "🤞"
         ],
         "textfont": {
          "size": 21.894821356884783
         },
         "type": "scatter",
         "x": [
          0.289751452913768
         ],
         "y": [
          0.4389714207056361
         ]
        },
        {
         "hoverinfo": "text",
         "hovertext": "Emoji: 🤧<br>Count: 58<br>Positive: 41.4%<br>Neutral: 36.2%<br>Negative: 22.4%",
         "mode": "text",
         "text": [
          "🤧"
         ],
         "textfont": {
          "size": 21.8627057406664
         },
         "type": "scatter",
         "x": [
          0.16122128725400442
         ],
         "y": [
          0.07845638134226596
         ]
        },
        {
         "hoverinfo": "text",
         "hovertext": "Emoji: 🎈<br>Count: 56<br>Positive: 76.8%<br>Neutral: 19.6%<br>Negative: 3.6%",
         "mode": "text",
         "text": [
          "🎈"
         ],
         "textfont": {
          "size": 21.798474508229628
         },
         "type": "scatter",
         "x": [
          0.9296976523425731
         ],
         "y": [
          0.02535074341545751
         ]
        },
        {
         "hoverinfo": "text",
         "hovertext": "Emoji: ✊<br>Count: 56<br>Positive: 44.6%<br>Neutral: 41.1%<br>Negative: 14.3%",
         "mode": "text",
         "text": [
          "✊"
         ],
         "textfont": {
          "size": 21.798474508229628
         },
         "type": "scatter",
         "x": [
          0.808120379564417
         ],
         "y": [
          0.9626484146779251
         ]
        },
        {
         "hoverinfo": "text",
         "hovertext": "Emoji: 🎊<br>Count: 56<br>Positive: 78.6%<br>Neutral: 21.4%<br>Negative: 0.0%",
         "mode": "text",
         "text": [
          "🎊"
         ],
         "textfont": {
          "size": 21.798474508229628
         },
         "type": "scatter",
         "x": [
          0.6334037565104235
         ],
         "y": [
          0.8359801205122058
         ]
        },
        {
         "hoverinfo": "text",
         "hovertext": "Emoji: 💰<br>Count: 56<br>Positive: 44.6%<br>Neutral: 39.3%<br>Negative: 16.1%",
         "mode": "text",
         "text": [
          "💰"
         ],
         "textfont": {
          "size": 21.798474508229628
         },
         "type": "scatter",
         "x": [
          0.8714605901877177
         ],
         "y": [
          0.695974206093698
         ]
        },
        {
         "hoverinfo": "text",
         "hovertext": "Emoji: 🐶<br>Count: 53<br>Positive: 54.7%<br>Neutral: 43.4%<br>Negative: 1.9%",
         "mode": "text",
         "text": [
          "🐶"
         ],
         "textfont": {
          "size": 21.70212765957447
         },
         "type": "scatter",
         "x": [
          0.8036720768991145
         ],
         "y": [
          0.4089529444142699
         ]
        },
        {
         "hoverinfo": "text",
         "hovertext": "Emoji: 🌈<br>Count: 53<br>Positive: 58.5%<br>Neutral: 28.3%<br>Negative: 13.2%",
         "mode": "text",
         "text": [
          "🌈"
         ],
         "textfont": {
          "size": 21.70212765957447
         },
         "type": "scatter",
         "x": [
          0.18657005888603584
         ],
         "y": [
          0.17329432007084578
         ]
        },
        {
         "hoverinfo": "text",
         "hovertext": "Emoji: 🔴<br>Count: 52<br>Positive: 44.2%<br>Neutral: 50.0%<br>Negative: 5.8%",
         "mode": "text",
         "text": [
          "🔴"
         ],
         "textfont": {
          "size": 21.67001204335608
         },
         "type": "scatter",
         "x": [
          0.8925589984899778
         ],
         "y": [
          0.15643704267108605
         ]
        },
        {
         "hoverinfo": "text",
         "hovertext": "Emoji: 🎵<br>Count: 51<br>Positive: 43.1%<br>Neutral: 47.1%<br>Negative: 9.8%",
         "mode": "text",
         "text": [
          "🎵"
         ],
         "textfont": {
          "size": 21.637896427137697
         },
         "type": "scatter",
         "x": [
          0.5393422419156507
         ],
         "y": [
          0.25024289816459533
         ]
        },
        {
         "hoverinfo": "text",
         "hovertext": "Emoji: 😬<br>Count: 50<br>Positive: 48.0%<br>Neutral: 26.0%<br>Negative: 26.0%",
         "mode": "text",
         "text": [
          "😬"
         ],
         "textfont": {
          "size": 21.60578081091931
         },
         "type": "scatter",
         "x": [
          0.8074401551640625
         ],
         "y": [
          0.5492266647061205
         ]
        },
        {
         "hoverinfo": "text",
         "hovertext": "Emoji: 🐰<br>Count: 50<br>Positive: 50.0%<br>Neutral: 38.0%<br>Negative: 12.0%",
         "mode": "text",
         "text": [
          "🐰"
         ],
         "textfont": {
          "size": 21.60578081091931
         },
         "type": "scatter",
         "x": [
          0.8960912999234932
         ],
         "y": [
          0.7145959227000623
         ]
        },
        {
         "hoverinfo": "text",
         "hovertext": "Emoji: 😃<br>Count: 49<br>Positive: 51.0%<br>Neutral: 42.9%<br>Negative: 6.1%",
         "mode": "text",
         "text": [
          "😃"
         ],
         "textfont": {
          "size": 21.573665194700922
         },
         "type": "scatter",
         "x": [
          0.3180034749718639
         ],
         "y": [
          0.6601973767177313
         ]
        },
        {
         "hoverinfo": "text",
         "hovertext": "Emoji: 🏿<br>Count: 49<br>Positive: 36.7%<br>Neutral: 44.9%<br>Negative: 18.4%",
         "mode": "text",
         "text": [
          "🏿"
         ],
         "textfont": {
          "size": 21.573665194700922
         },
         "type": "scatter",
         "x": [
          0.11005192452767676
         ],
         "y": [
          0.27993389694594284
         ]
        },
        {
         "hoverinfo": "text",
         "hovertext": "Emoji: 👈<br>Count: 49<br>Positive: 30.6%<br>Neutral: 57.1%<br>Negative: 12.2%",
         "mode": "text",
         "text": [
          "👈"
         ],
         "textfont": {
          "size": 21.573665194700922
         },
         "type": "scatter",
         "x": [
          0.22793516254194168
         ],
         "y": [
          0.9548652806631941
         ]
        },
        {
         "hoverinfo": "text",
         "hovertext": "Emoji: ☹<br>Count: 49<br>Positive: 32.7%<br>Neutral: 22.4%<br>Negative: 44.9%",
         "mode": "text",
         "text": [
          "☹"
         ],
         "textfont": {
          "size": 21.573665194700922
         },
         "type": "scatter",
         "x": [
          0.4271077886262563
         ],
         "y": [
          0.7378969166957685
         ]
        },
        {
         "hoverinfo": "text",
         "hovertext": "Emoji: 😪<br>Count: 48<br>Positive: 31.2%<br>Neutral: 35.4%<br>Negative: 33.3%",
         "mode": "text",
         "text": [
          "😪"
         ],
         "textfont": {
          "size": 21.541549578482538
         },
         "type": "scatter",
         "x": [
          0.8180147659224931
         ],
         "y": [
          0.5543540525114007
         ]
        },
        {
         "hoverinfo": "text",
         "hovertext": "Emoji: 📣<br>Count: 47<br>Positive: 53.2%<br>Neutral: 38.3%<br>Negative: 8.5%",
         "mode": "text",
         "text": [
          "📣"
         ],
         "textfont": {
          "size": 21.50943396226415
         },
         "type": "scatter",
         "x": [
          0.8607305832563434
         ],
         "y": [
          0.6117207462343522
         ]
        },
        {
         "hoverinfo": "text",
         "hovertext": "Emoji: 😕<br>Count: 46<br>Positive: 32.6%<br>Neutral: 34.8%<br>Negative: 32.6%",
         "mode": "text",
         "text": [
          "😕"
         ],
         "textfont": {
          "size": 21.477318346045763
         },
         "type": "scatter",
         "x": [
          0.006952130531190703
         ],
         "y": [
          0.4196000624277899
         ]
        },
        {
         "hoverinfo": "text",
         "hovertext": "Emoji: 😡<br>Count: 45<br>Positive: 15.6%<br>Neutral: 33.3%<br>Negative: 51.1%",
         "mode": "text",
         "text": [
          "😡"
         ],
         "textfont": {
          "size": 21.44520272982738
         },
         "type": "scatter",
         "x": [
          0.5107473025775657
         ],
         "y": [
          0.24773098950115746
         ]
        },
        {
         "hoverinfo": "text",
         "hovertext": "Emoji: 🌎<br>Count: 45<br>Positive: 46.7%<br>Neutral: 44.4%<br>Negative: 8.9%",
         "mode": "text",
         "text": [
          "🌎"
         ],
         "textfont": {
          "size": 21.44520272982738
         },
         "type": "scatter",
         "x": [
          0.417411003148779
         ],
         "y": [
          0.3559726786512616
         ]
        },
        {
         "hoverinfo": "text",
         "hovertext": "Emoji: 🔗<br>Count: 45<br>Positive: 31.1%<br>Neutral: 60.0%<br>Negative: 8.9%",
         "mode": "text",
         "text": [
          "🔗"
         ],
         "textfont": {
          "size": 21.44520272982738
         },
         "type": "scatter",
         "x": [
          0.22210781047073025
         ],
         "y": [
          0.7578461104643691
         ]
        },
        {
         "hoverinfo": "text",
         "hovertext": "Emoji: ❣<br>Count: 44<br>Positive: 63.6%<br>Neutral: 27.3%<br>Negative: 9.1%",
         "mode": "text",
         "text": [
          "❣"
         ],
         "textfont": {
          "size": 21.41308711360899
         },
         "type": "scatter",
         "x": [
          0.1198653673336828
         ],
         "y": [
          0.014393488629755868
         ]
        },
        {
         "hoverinfo": "text",
         "hovertext": "Emoji: 📞<br>Count: 44<br>Positive: 18.2%<br>Neutral: 79.5%<br>Negative: 2.3%",
         "mode": "text",
         "text": [
          "📞"
         ],
         "textfont": {
          "size": 21.41308711360899
         },
         "type": "scatter",
         "x": [
          0.33761517140362796
         ],
         "y": [
          0.11607264050691624
         ]
        },
        {
         "hoverinfo": "text",
         "hovertext": "Emoji: 😛<br>Count: 43<br>Positive: 37.2%<br>Neutral: 48.8%<br>Negative: 14.0%",
         "mode": "text",
         "text": [
          "😛"
         ],
         "textfont": {
          "size": 21.380971497390608
         },
         "type": "scatter",
         "x": [
          0.9429097039125192
         ],
         "y": [
          0.04600264202175275
         ]
        },
        {
         "hoverinfo": "text",
         "hovertext": "Emoji: 🏀<br>Count: 43<br>Positive: 32.6%<br>Neutral: 55.8%<br>Negative: 11.6%",
         "mode": "text",
         "text": [
          "🏀"
         ],
         "textfont": {
          "size": 21.380971497390608
         },
         "type": "scatter",
         "x": [
          0.32320293202075523
         ],
         "y": [
          0.040728802318970136
         ]
        },
        {
         "hoverinfo": "text",
         "hovertext": "Emoji: 🐾<br>Count: 43<br>Positive: 55.8%<br>Neutral: 39.5%<br>Negative: 4.7%",
         "mode": "text",
         "text": [
          "🐾"
         ],
         "textfont": {
          "size": 21.380971497390608
         },
         "type": "scatter",
         "x": [
          0.5187906217433661
         ],
         "y": [
          0.8554605840110072
         ]
        },
        {
         "hoverinfo": "text",
         "hovertext": "Emoji: 😻<br>Count: 43<br>Positive: 72.1%<br>Neutral: 18.6%<br>Negative: 9.3%",
         "mode": "text",
         "text": [
          "😻"
         ],
         "textfont": {
          "size": 21.380971497390608
         },
         "type": "scatter",
         "x": [
          0.7030189588951778
         ],
         "y": [
          0.7036578593800237
         ]
        },
        {
         "hoverinfo": "text",
         "hovertext": "Emoji: 🍀<br>Count: 42<br>Positive: 76.2%<br>Neutral: 23.8%<br>Negative: 0.0%",
         "mode": "text",
         "text": [
          "🍀"
         ],
         "textfont": {
          "size": 21.34885588117222
         },
         "type": "scatter",
         "x": [
          0.363629602379294
         ],
         "y": [
          0.4741738290873252
         ]
        },
        {
         "hoverinfo": "text",
         "hovertext": "Emoji: 🌊<br>Count: 42<br>Positive: 59.5%<br>Neutral: 33.3%<br>Negative: 7.1%",
         "mode": "text",
         "text": [
          "🌊"
         ],
         "textfont": {
          "size": 21.34885588117222
         },
         "type": "scatter",
         "x": [
          0.9717820827209607
         ],
         "y": [
          0.09783416065100148
         ]
        },
        {
         "hoverinfo": "text",
         "hovertext": "Emoji: 😑<br>Count: 42<br>Positive: 14.3%<br>Neutral: 40.5%<br>Negative: 45.2%",
         "mode": "text",
         "text": [
          "😑"
         ],
         "textfont": {
          "size": 21.34885588117222
         },
         "type": "scatter",
         "x": [
          0.9624472949421112
         ],
         "y": [
          0.49161587511683236
         ]
        },
        {
         "hoverinfo": "text",
         "hovertext": "Emoji: 🎮<br>Count: 42<br>Positive: 31.0%<br>Neutral: 64.3%<br>Negative: 4.8%",
         "mode": "text",
         "text": [
          "🎮"
         ],
         "textfont": {
          "size": 21.34885588117222
         },
         "type": "scatter",
         "x": [
          0.25178229582536416
         ],
         "y": [
          0.4734717707805657
         ]
        },
        {
         "hoverinfo": "text",
         "hovertext": "Emoji: ☕<br>Count: 41<br>Positive: 61.0%<br>Neutral: 36.6%<br>Negative: 2.4%",
         "mode": "text",
         "text": [
          "☕"
         ],
         "textfont": {
          "size": 21.316740264953832
         },
         "type": "scatter",
         "x": [
          0.49724850589238545
         ],
         "y": [
          0.17320186991001518
         ]
        },
        {
         "hoverinfo": "text",
         "hovertext": "Emoji: 📹<br>Count: 41<br>Positive: 26.8%<br>Neutral: 63.4%<br>Negative: 9.8%",
         "mode": "text",
         "text": [
          "📹"
         ],
         "textfont": {
          "size": 21.316740264953832
         },
         "type": "scatter",
         "x": [
          0.30087830981676966
         ],
         "y": [
          0.43385164923797304
         ]
        },
        {
         "hoverinfo": "text",
         "hovertext": "Emoji: 🌼<br>Count: 40<br>Positive: 75.0%<br>Neutral: 20.0%<br>Negative: 5.0%",
         "mode": "text",
         "text": [
          "🌼"
         ],
         "textfont": {
          "size": 21.28462464873545
         },
         "type": "scatter",
         "x": [
          0.2848404943774676
         ],
         "y": [
          0.39850473439737344
         ]
        },
        {
         "hoverinfo": "text",
         "hovertext": "Emoji: 🎤<br>Count: 40<br>Positive: 35.0%<br>Neutral: 42.5%<br>Negative: 22.5%",
         "mode": "text",
         "text": [
          "🎤"
         ],
         "textfont": {
          "size": 21.28462464873545
         },
         "type": "scatter",
         "x": [
          0.036886947354532795
         ],
         "y": [
          0.6158500980522165
         ]
        },
        {
         "hoverinfo": "text",
         "hovertext": "Emoji: ✈<br>Count: 40<br>Positive: 40.0%<br>Neutral: 55.0%<br>Negative: 5.0%",
         "mode": "text",
         "text": [
          "✈"
         ],
         "textfont": {
          "size": 21.28462464873545
         },
         "type": "scatter",
         "x": [
          0.6095643339798968
         ],
         "y": [
          0.6350936508676438
         ]
        },
        {
         "hoverinfo": "text",
         "hovertext": "Emoji: 🌞<br>Count: 40<br>Positive: 60.0%<br>Neutral: 35.0%<br>Negative: 5.0%",
         "mode": "text",
         "text": [
          "🌞"
         ],
         "textfont": {
          "size": 21.28462464873545
         },
         "type": "scatter",
         "x": [
          0.5026790232288615
         ],
         "y": [
          0.04530400977204452
         ]
        },
        {
         "hoverinfo": "text",
         "hovertext": "Emoji: 😝<br>Count: 40<br>Positive: 32.5%<br>Neutral: 47.5%<br>Negative: 20.0%",
         "mode": "text",
         "text": [
          "😝"
         ],
         "textfont": {
          "size": 21.28462464873545
         },
         "type": "scatter",
         "x": [
          0.05147875124998935
         ],
         "y": [
          0.3746126146264712
         ]
        },
        {
         "hoverinfo": "text",
         "hovertext": "Emoji: 👋<br>Count: 39<br>Positive: 46.2%<br>Neutral: 46.2%<br>Negative: 7.7%",
         "mode": "text",
         "text": [
          "👋"
         ],
         "textfont": {
          "size": 21.25250903251706
         },
         "type": "scatter",
         "x": [
          0.27864646423661144
         ],
         "y": [
          0.6258599157142364
         ]
        },
        {
         "hoverinfo": "text",
         "hovertext": "Emoji: ↗<br>Count: 39<br>Positive: 84.6%<br>Neutral: 12.8%<br>Negative: 2.6%",
         "mode": "text",
         "text": [
          "↗"
         ],
         "textfont": {
          "size": 21.25250903251706
         },
         "type": "scatter",
         "x": [
          0.9082658859666537
         ],
         "y": [
          0.5031362585800877
         ]
        },
        {
         "hoverinfo": "text",
         "hovertext": "Emoji: 🐯<br>Count: 39<br>Positive: 59.0%<br>Neutral: 28.2%<br>Negative: 12.8%",
         "mode": "text",
         "text": [
          "🐯"
         ],
         "textfont": {
          "size": 21.25250903251706
         },
         "type": "scatter",
         "x": [
          0.23956189066697242
         ],
         "y": [
          0.8564898411883223
         ]
        },
        {
         "hoverinfo": "text",
         "hovertext": "Emoji: 💃<br>Count: 38<br>Positive: 34.2%<br>Neutral: 52.6%<br>Negative: 13.2%",
         "mode": "text",
         "text": [
          "💃"
         ],
         "textfont": {
          "size": 21.220393416298677
         },
         "type": "scatter",
         "x": [
          0.1448948720912231
         ],
         "y": [
          0.658693631618945
         ]
        },
        {
         "hoverinfo": "text",
         "hovertext": "Emoji: ⏰<br>Count: 38<br>Positive: 57.9%<br>Neutral: 31.6%<br>Negative: 10.5%",
         "mode": "text",
         "text": [
          "⏰"
         ],
         "textfont": {
          "size": 21.220393416298677
         },
         "type": "scatter",
         "x": [
          0.489452760277563
         ],
         "y": [
          0.1629344270814297
         ]
        },
        {
         "hoverinfo": "text",
         "hovertext": "Emoji: 😞<br>Count: 38<br>Positive: 21.1%<br>Neutral: 31.6%<br>Negative: 47.4%",
         "mode": "text",
         "text": [
          "😞"
         ],
         "textfont": {
          "size": 21.220393416298677
         },
         "type": "scatter",
         "x": [
          0.9856504541106007
         ],
         "y": [
          0.07056874740042984
         ]
        },
        {
         "hoverinfo": "text",
         "hovertext": "Emoji: 🦋<br>Count: 37<br>Positive: 45.9%<br>Neutral: 40.5%<br>Negative: 13.5%",
         "mode": "text",
         "text": [
          "🦋"
         ],
         "textfont": {
          "size": 21.18827780008029
         },
         "type": "scatter",
         "x": [
          0.2420552715115004
         ],
         "y": [
          0.6424192782063156
         ]
        },
        {
         "hoverinfo": "text",
         "hovertext": "Emoji: 📺<br>Count: 37<br>Positive: 32.4%<br>Neutral: 54.1%<br>Negative: 13.5%",
         "mode": "text",
         "text": [
          "📺"
         ],
         "textfont": {
          "size": 21.18827780008029
         },
         "type": "scatter",
         "x": [
          0.6721355474058786
         ],
         "y": [
          0.026511310541621813
         ]
        },
        {
         "hoverinfo": "text",
         "hovertext": "Emoji: 🐱<br>Count: 37<br>Positive: 56.8%<br>Neutral: 37.8%<br>Negative: 5.4%",
         "mode": "text",
         "text": [
          "🐱"
         ],
         "textfont": {
          "size": 21.18827780008029
         },
         "type": "scatter",
         "x": [
          0.7616196153287176
         ],
         "y": [
          0.5857755812734633
         ]
        },
        {
         "hoverinfo": "text",
         "hovertext": "Emoji: ™<br>Count: 36<br>Positive: 27.8%<br>Neutral: 55.6%<br>Negative: 16.7%",
         "mode": "text",
         "text": [
          "™"
         ],
         "textfont": {
          "size": 21.156162183861902
         },
         "type": "scatter",
         "x": [
          0.23763754399239967
         ],
         "y": [
          0.9402302414249576
         ]
        },
        {
         "hoverinfo": "text",
         "hovertext": "Emoji: 💝<br>Count: 36<br>Positive: 66.7%<br>Neutral: 30.6%<br>Negative: 2.8%",
         "mode": "text",
         "text": [
          "💝"
         ],
         "textfont": {
          "size": 21.156162183861902
         },
         "type": "scatter",
         "x": [
          0.7282163486118596
         ],
         "y": [
          0.575474177875879
         ]
        },
        {
         "hoverinfo": "text",
         "hovertext": "Emoji: 🧡<br>Count: 36<br>Positive: 63.9%<br>Neutral: 30.6%<br>Negative: 5.6%",
         "mode": "text",
         "text": [
          "🧡"
         ],
         "textfont": {
          "size": 21.156162183861902
         },
         "type": "scatter",
         "x": [
          0.3677831327192532
         ],
         "y": [
          0.3881699262065219
         ]
        },
        {
         "hoverinfo": "text",
         "hovertext": "Emoji: 💁<br>Count: 35<br>Positive: 45.7%<br>Neutral: 31.4%<br>Negative: 22.9%",
         "mode": "text",
         "text": [
          "💁"
         ],
         "textfont": {
          "size": 21.124046567643518
         },
         "type": "scatter",
         "x": [
          0.6323058305935795
         ],
         "y": [
          0.6432882184423532
         ]
        },
        {
         "hoverinfo": "text",
         "hovertext": "Emoji: 🖥<br>Count: 35<br>Positive: 22.9%<br>Neutral: 71.4%<br>Negative: 5.7%",
         "mode": "text",
         "text": [
          "🖥"
         ],
         "textfont": {
          "size": 21.124046567643518
         },
         "type": "scatter",
         "x": [
          0.6335297107608947
         ],
         "y": [
          0.45825289049151663
         ]
        },
        {
         "hoverinfo": "text",
         "hovertext": "Emoji: 😐<br>Count: 35<br>Positive: 37.1%<br>Neutral: 34.3%<br>Negative: 28.6%",
         "mode": "text",
         "text": [
          "😐"
         ],
         "textfont": {
          "size": 21.124046567643518
         },
         "type": "scatter",
         "x": [
          0.5357746840747585
         ],
         "y": [
          0.5456167893159349
         ]
        },
        {
         "hoverinfo": "text",
         "hovertext": "Emoji: ⬇<br>Count: 35<br>Positive: 40.0%<br>Neutral: 51.4%<br>Negative: 8.6%",
         "mode": "text",
         "text": [
          "⬇"
         ],
         "textfont": {
          "size": 21.124046567643518
         },
         "type": "scatter",
         "x": [
          0.0902897700544083
         ],
         "y": [
          0.9414648087765252
         ]
        },
        {
         "hoverinfo": "text",
         "hovertext": "Emoji: 🕰<br>Count: 35<br>Positive: 25.7%<br>Neutral: 74.3%<br>Negative: 0.0%",
         "mode": "text",
         "text": [
          "🕰"
         ],
         "textfont": {
          "size": 21.124046567643518
         },
         "type": "scatter",
         "x": [
          0.835302495589238
         ],
         "y": [
          0.38610263780077425
         ]
        },
        {
         "hoverinfo": "text",
         "hovertext": "Emoji: 🚖<br>Count: 35<br>Positive: 8.6%<br>Neutral: 91.4%<br>Negative: 0.0%",
         "mode": "text",
         "text": [
          "🚖"
         ],
         "textfont": {
          "size": 21.124046567643518
         },
         "type": "scatter",
         "x": [
          0.32078006497173583
         ],
         "y": [
          0.9611905638239142
         ]
        },
        {
         "hoverinfo": "text",
         "hovertext": "Emoji: 🔞<br>Count: 34<br>Positive: 35.3%<br>Neutral: 55.9%<br>Negative: 8.8%",
         "mode": "text",
         "text": [
          "🔞"
         ],
         "textfont": {
          "size": 21.09193095142513
         },
         "type": "scatter",
         "x": [
          0.18651851039985423
         ],
         "y": [
          0.9053506419560637
         ]
        },
        {
         "hoverinfo": "text",
         "hovertext": "Emoji: 😚<br>Count: 33<br>Positive: 57.6%<br>Neutral: 24.2%<br>Negative: 18.2%",
         "mode": "text",
         "text": [
          "😚"
         ],
         "textfont": {
          "size": 21.059815335206743
         },
         "type": "scatter",
         "x": [
          0.040775141554763916
         ],
         "y": [
          0.19579113478929644
         ]
        },
        {
         "hoverinfo": "text",
         "hovertext": "Emoji: 💐<br>Count: 32<br>Positive: 65.6%<br>Neutral: 31.2%<br>Negative: 3.1%",
         "mode": "text",
         "text": [
          "💐"
         ],
         "textfont": {
          "size": 21.02769971898836
         },
         "type": "scatter",
         "x": [
          0.5908929431882418
         ],
         "y": [
          0.06936130087516545
         ]
        },
        {
         "hoverinfo": "text",
         "hovertext": "Emoji: 🌷<br>Count: 32<br>Positive: 68.8%<br>Neutral: 28.1%<br>Negative: 3.1%",
         "mode": "text",
         "text": [
          "🌷"
         ],
         "textfont": {
          "size": 21.02769971898836
         },
         "type": "scatter",
         "x": [
          0.6775643618422824
         ],
         "y": [
          0.10077800137742665
         ]
        },
        {
         "hoverinfo": "text",
         "hovertext": "Emoji: 🔵<br>Count: 32<br>Positive: 59.4%<br>Neutral: 40.6%<br>Negative: 0.0%",
         "mode": "text",
         "text": [
          "🔵"
         ],
         "textfont": {
          "size": 21.02769971898836
         },
         "type": "scatter",
         "x": [
          0.016587828927856152
         ],
         "y": [
          0.018221825651549728
         ]
        },
        {
         "hoverinfo": "text",
         "hovertext": "Emoji: 🔔<br>Count: 32<br>Positive: 56.2%<br>Neutral: 40.6%<br>Negative: 3.1%",
         "mode": "text",
         "text": [
          "🔔"
         ],
         "textfont": {
          "size": 21.02769971898836
         },
         "type": "scatter",
         "x": [
          0.512093058299281
         ],
         "y": [
          0.0944429607559284
         ]
        },
        {
         "hoverinfo": "text",
         "hovertext": "Emoji: 🎧<br>Count: 31<br>Positive: 54.8%<br>Neutral: 35.5%<br>Negative: 9.7%",
         "mode": "text",
         "text": [
          "🎧"
         ],
         "textfont": {
          "size": 20.99558410276997
         },
         "type": "scatter",
         "x": [
          0.22649577519793795
         ],
         "y": [
          0.6830067734163568
         ]
        },
        {
         "hoverinfo": "text",
         "hovertext": "Emoji: 🍑<br>Count: 31<br>Positive: 29.0%<br>Neutral: 48.4%<br>Negative: 22.6%",
         "mode": "text",
         "text": [
          "🍑"
         ],
         "textfont": {
          "size": 20.99558410276997
         },
         "type": "scatter",
         "x": [
          0.6451727904094499
         ],
         "y": [
          0.07118864846022899
         ]
        },
        {
         "hoverinfo": "text",
         "hovertext": "Emoji: 🤓<br>Count: 31<br>Positive: 35.5%<br>Neutral: 54.8%<br>Negative: 9.7%",
         "mode": "text",
         "text": [
          "🤓"
         ],
         "textfont": {
          "size": 20.99558410276997
         },
         "type": "scatter",
         "x": [
          0.17436642900499144
         ],
         "y": [
          0.3189756302937613
         ]
        },
        {
         "hoverinfo": "text",
         "hovertext": "Emoji: 🌍<br>Count: 31<br>Positive: 48.4%<br>Neutral: 38.7%<br>Negative: 12.9%",
         "mode": "text",
         "text": [
          "🌍"
         ],
         "textfont": {
          "size": 20.99558410276997
         },
         "type": "scatter",
         "x": [
          0.690937738102466
         ],
         "y": [
          0.8448753109694546
         ]
        },
        {
         "hoverinfo": "text",
         "hovertext": "Emoji: 📍<br>Count: 31<br>Positive: 32.3%<br>Neutral: 58.1%<br>Negative: 9.7%",
         "mode": "text",
         "text": [
          "📍"
         ],
         "textfont": {
          "size": 20.99558410276997
         },
         "type": "scatter",
         "x": [
          0.3867353463005374
         ],
         "y": [
          0.023271935735825866
         ]
        },
        {
         "hoverinfo": "text",
         "hovertext": "Emoji: 🤙<br>Count: 30<br>Positive: 56.7%<br>Neutral: 30.0%<br>Negative: 13.3%",
         "mode": "text",
         "text": [
          "🤙"
         ],
         "textfont": {
          "size": 20.963468486551587
         },
         "type": "scatter",
         "x": [
          0.9367299887367345
         ],
         "y": [
          0.8144684825889358
         ]
        },
        {
         "hoverinfo": "text",
         "hovertext": "Emoji: 🤩<br>Count: 30<br>Positive: 50.0%<br>Neutral: 50.0%<br>Negative: 0.0%",
         "mode": "text",
         "text": [
          "🤩"
         ],
         "textfont": {
          "size": 20.963468486551587
         },
         "type": "scatter",
         "x": [
          0.13752094414599325
         ],
         "y": [
          0.28185477477339993
         ]
        },
        {
         "hoverinfo": "text",
         "hovertext": "Emoji: 😣<br>Count: 30<br>Positive: 36.7%<br>Neutral: 23.3%<br>Negative: 40.0%",
         "mode": "text",
         "text": [
          "😣"
         ],
         "textfont": {
          "size": 20.963468486551587
         },
         "type": "scatter",
         "x": [
          0.3410663510502585
         ],
         "y": [
          0.11816482762165625
         ]
        },
        {
         "hoverinfo": "text",
         "hovertext": "Emoji: 🙋<br>Count: 30<br>Positive: 70.0%<br>Neutral: 20.0%<br>Negative: 10.0%",
         "mode": "text",
         "text": [
          "🙋"
         ],
         "textfont": {
          "size": 20.963468486551587
         },
         "type": "scatter",
         "x": [
          0.11347352124058907
         ],
         "y": [
          0.6967371653641506
         ]
        },
        {
         "hoverinfo": "text",
         "hovertext": "Emoji: ↘<br>Count: 29<br>Positive: 82.8%<br>Neutral: 17.2%<br>Negative: 0.0%",
         "mode": "text",
         "text": [
          "↘"
         ],
         "textfont": {
          "size": 20.9313528703332
         },
         "type": "scatter",
         "x": [
          0.9246936182785628
         ],
         "y": [
          0.628942846779884
         ]
        },
        {
         "hoverinfo": "text",
         "hovertext": "Emoji: 🌺<br>Count: 29<br>Positive: 55.2%<br>Neutral: 41.4%<br>Negative: 3.4%",
         "mode": "text",
         "text": [
          "🌺"
         ],
         "textfont": {
          "size": 20.9313528703332
         },
         "type": "scatter",
         "x": [
          0.877339353380981
         ],
         "y": [
          0.877472013527053
         ]
        },
        {
         "hoverinfo": "text",
         "hovertext": "Emoji: 😮<br>Count: 29<br>Positive: 44.8%<br>Neutral: 41.4%<br>Negative: 13.8%",
         "mode": "text",
         "text": [
          "😮"
         ],
         "textfont": {
          "size": 20.9313528703332
         },
         "type": "scatter",
         "x": [
          0.2579416277151556
         ],
         "y": [
          0.7350710438038858
         ]
        },
        {
         "hoverinfo": "text",
         "hovertext": "Emoji: 🤑<br>Count: 28<br>Positive: 35.7%<br>Neutral: 64.3%<br>Negative: 0.0%",
         "mode": "text",
         "text": [
          "🤑"
         ],
         "textfont": {
          "size": 20.899237254114812
         },
         "type": "scatter",
         "x": [
          0.659984046034179
         ],
         "y": [
          0.8034809303848486
         ]
        },
        {
         "hoverinfo": "text",
         "hovertext": "Emoji: 📝<br>Count: 28<br>Positive: 42.9%<br>Neutral: 50.0%<br>Negative: 7.1%",
         "mode": "text",
         "text": [
          "📝"
         ],
         "textfont": {
          "size": 20.899237254114812
         },
         "type": "scatter",
         "x": [
          0.8172222002012158
         ],
         "y": [
          0.2820345725713065
         ]
        },
        {
         "hoverinfo": "text",
         "hovertext": "Emoji: 🙊<br>Count: 28<br>Positive: 50.0%<br>Neutral: 28.6%<br>Negative: 21.4%",
         "mode": "text",
         "text": [
          "🙊"
         ],
         "textfont": {
          "size": 20.899237254114812
         },
         "type": "scatter",
         "x": [
          0.5552008115994623
         ],
         "y": [
          0.17743954377972282
         ]
        },
        {
         "hoverinfo": "text",
         "hovertext": "Emoji: 🕺<br>Count: 28<br>Positive: 42.9%<br>Neutral: 42.9%<br>Negative: 14.3%",
         "mode": "text",
         "text": [
          "🕺"
         ],
         "textfont": {
          "size": 20.899237254114812
         },
         "type": "scatter",
         "x": [
          0.5296505783560065
         ],
         "y": [
          0.7506147516408583
         ]
        },
        {
         "hoverinfo": "text",
         "hovertext": "Emoji: 🧐<br>Count: 27<br>Positive: 48.1%<br>Neutral: 33.3%<br>Negative: 18.5%",
         "mode": "text",
         "text": [
          "🧐"
         ],
         "textfont": {
          "size": 20.867121637896428
         },
         "type": "scatter",
         "x": [
          0.24185229090045168
         ],
         "y": [
          0.806834739267264
         ]
        },
        {
         "hoverinfo": "text",
         "hovertext": "Emoji: ⚪<br>Count: 27<br>Positive: 55.6%<br>Neutral: 37.0%<br>Negative: 7.4%",
         "mode": "text",
         "text": [
          "⚪"
         ],
         "textfont": {
          "size": 20.867121637896428
         },
         "type": "scatter",
         "x": [
          0.09310276780589921
         ],
         "y": [
          0.9905051420006733
         ]
        },
        {
         "hoverinfo": "text",
         "hovertext": "Emoji: 🍃<br>Count: 27<br>Positive: 48.1%<br>Neutral: 51.9%<br>Negative: 0.0%",
         "mode": "text",
         "text": [
          "🍃"
         ],
         "textfont": {
          "size": 20.867121637896428
         },
         "type": "scatter",
         "x": [
          0.8972157579533268
         ],
         "y": [
          0.4126176769114265
         ]
        },
        {
         "hoverinfo": "text",
         "hovertext": "Emoji: 😙<br>Count: 27<br>Positive: 66.7%<br>Neutral: 33.3%<br>Negative: 0.0%",
         "mode": "text",
         "text": [
          "😙"
         ],
         "textfont": {
          "size": 20.867121637896428
         },
         "type": "scatter",
         "x": [
          0.9004180571633305
         ],
         "y": [
          0.37201808579278317
         ]
        },
        {
         "hoverinfo": "text",
         "hovertext": "Emoji: 🐐<br>Count: 27<br>Positive: 40.7%<br>Neutral: 44.4%<br>Negative: 14.8%",
         "mode": "text",
         "text": [
          "🐐"
         ],
         "textfont": {
          "size": 20.867121637896428
         },
         "type": "scatter",
         "x": [
          0.6331014572732679
         ],
         "y": [
          0.7764129607419968
         ]
        },
        {
         "hoverinfo": "text",
         "hovertext": "Emoji: 😹<br>Count: 26<br>Positive: 42.3%<br>Neutral: 42.3%<br>Negative: 15.4%",
         "mode": "text",
         "text": [
          "😹"
         ],
         "textfont": {
          "size": 20.83500602167804
         },
         "type": "scatter",
         "x": [
          0.3390297910487007
         ],
         "y": [
          0.34080354025301784
         ]
        },
        {
         "hoverinfo": "text",
         "hovertext": "Emoji: 🏃<br>Count: 26<br>Positive: 42.3%<br>Neutral: 50.0%<br>Negative: 7.7%",
         "mode": "text",
         "text": [
          "🏃"
         ],
         "textfont": {
          "size": 20.83500602167804
         },
         "type": "scatter",
         "x": [
          0.3492095746126609
         ],
         "y": [
          0.9307573256035647
         ]
        },
        {
         "hoverinfo": "text",
         "hovertext": "Emoji: 🐻<br>Count: 26<br>Positive: 57.7%<br>Neutral: 42.3%<br>Negative: 0.0%",
         "mode": "text",
         "text": [
          "🐻"
         ],
         "textfont": {
          "size": 20.83500602167804
         },
         "type": "scatter",
         "x": [
          0.7259556788702394
         ],
         "y": [
          0.8584127518430118
         ]
        },
        {
         "hoverinfo": "text",
         "hovertext": "Emoji: ⏬<br>Count: 26<br>Positive: 15.4%<br>Neutral: 73.1%<br>Negative: 11.5%",
         "mode": "text",
         "text": [
          "⏬"
         ],
         "textfont": {
          "size": 20.83500602167804
         },
         "type": "scatter",
         "x": [
          0.8971102599525771
         ],
         "y": [
          0.42899402737501835
         ]
        },
        {
         "hoverinfo": "text",
         "hovertext": "Emoji: 🌙<br>Count: 26<br>Positive: 42.3%<br>Neutral: 46.2%<br>Negative: 11.5%",
         "mode": "text",
         "text": [
          "🌙"
         ],
         "textfont": {
          "size": 20.83500602167804
         },
         "type": "scatter",
         "x": [
          0.8870864242651173
         ],
         "y": [
          0.7508710677914974
         ]
        },
        {
         "hoverinfo": "text",
         "hovertext": "Emoji: 😲<br>Count: 26<br>Positive: 34.6%<br>Neutral: 46.2%<br>Negative: 19.2%",
         "mode": "text",
         "text": [
          "😲"
         ],
         "textfont": {
          "size": 20.83500602167804
         },
         "type": "scatter",
         "x": [
          0.7798755458576239
         ],
         "y": [
          0.7545428740846823
         ]
        }
       ],
       "layout": {
        "plot_bgcolor": "white",
        "showlegend": false,
        "template": {
         "data": {
          "bar": [
           {
            "error_x": {
             "color": "#2a3f5f"
            },
            "error_y": {
             "color": "#2a3f5f"
            },
            "marker": {
             "line": {
              "color": "#E5ECF6",
              "width": 0.5
             },
             "pattern": {
              "fillmode": "overlay",
              "size": 10,
              "solidity": 0.2
             }
            },
            "type": "bar"
           }
          ],
          "barpolar": [
           {
            "marker": {
             "line": {
              "color": "#E5ECF6",
              "width": 0.5
             },
             "pattern": {
              "fillmode": "overlay",
              "size": 10,
              "solidity": 0.2
             }
            },
            "type": "barpolar"
           }
          ],
          "carpet": [
           {
            "aaxis": {
             "endlinecolor": "#2a3f5f",
             "gridcolor": "white",
             "linecolor": "white",
             "minorgridcolor": "white",
             "startlinecolor": "#2a3f5f"
            },
            "baxis": {
             "endlinecolor": "#2a3f5f",
             "gridcolor": "white",
             "linecolor": "white",
             "minorgridcolor": "white",
             "startlinecolor": "#2a3f5f"
            },
            "type": "carpet"
           }
          ],
          "choropleth": [
           {
            "colorbar": {
             "outlinewidth": 0,
             "ticks": ""
            },
            "type": "choropleth"
           }
          ],
          "contour": [
           {
            "colorbar": {
             "outlinewidth": 0,
             "ticks": ""
            },
            "colorscale": [
             [
              0,
              "#0d0887"
             ],
             [
              0.1111111111111111,
              "#46039f"
             ],
             [
              0.2222222222222222,
              "#7201a8"
             ],
             [
              0.3333333333333333,
              "#9c179e"
             ],
             [
              0.4444444444444444,
              "#bd3786"
             ],
             [
              0.5555555555555556,
              "#d8576b"
             ],
             [
              0.6666666666666666,
              "#ed7953"
             ],
             [
              0.7777777777777778,
              "#fb9f3a"
             ],
             [
              0.8888888888888888,
              "#fdca26"
             ],
             [
              1,
              "#f0f921"
             ]
            ],
            "type": "contour"
           }
          ],
          "contourcarpet": [
           {
            "colorbar": {
             "outlinewidth": 0,
             "ticks": ""
            },
            "type": "contourcarpet"
           }
          ],
          "heatmap": [
           {
            "colorbar": {
             "outlinewidth": 0,
             "ticks": ""
            },
            "colorscale": [
             [
              0,
              "#0d0887"
             ],
             [
              0.1111111111111111,
              "#46039f"
             ],
             [
              0.2222222222222222,
              "#7201a8"
             ],
             [
              0.3333333333333333,
              "#9c179e"
             ],
             [
              0.4444444444444444,
              "#bd3786"
             ],
             [
              0.5555555555555556,
              "#d8576b"
             ],
             [
              0.6666666666666666,
              "#ed7953"
             ],
             [
              0.7777777777777778,
              "#fb9f3a"
             ],
             [
              0.8888888888888888,
              "#fdca26"
             ],
             [
              1,
              "#f0f921"
             ]
            ],
            "type": "heatmap"
           }
          ],
          "histogram": [
           {
            "marker": {
             "pattern": {
              "fillmode": "overlay",
              "size": 10,
              "solidity": 0.2
             }
            },
            "type": "histogram"
           }
          ],
          "histogram2d": [
           {
            "colorbar": {
             "outlinewidth": 0,
             "ticks": ""
            },
            "colorscale": [
             [
              0,
              "#0d0887"
             ],
             [
              0.1111111111111111,
              "#46039f"
             ],
             [
              0.2222222222222222,
              "#7201a8"
             ],
             [
              0.3333333333333333,
              "#9c179e"
             ],
             [
              0.4444444444444444,
              "#bd3786"
             ],
             [
              0.5555555555555556,
              "#d8576b"
             ],
             [
              0.6666666666666666,
              "#ed7953"
             ],
             [
              0.7777777777777778,
              "#fb9f3a"
             ],
             [
              0.8888888888888888,
              "#fdca26"
             ],
             [
              1,
              "#f0f921"
             ]
            ],
            "type": "histogram2d"
           }
          ],
          "histogram2dcontour": [
           {
            "colorbar": {
             "outlinewidth": 0,
             "ticks": ""
            },
            "colorscale": [
             [
              0,
              "#0d0887"
             ],
             [
              0.1111111111111111,
              "#46039f"
             ],
             [
              0.2222222222222222,
              "#7201a8"
             ],
             [
              0.3333333333333333,
              "#9c179e"
             ],
             [
              0.4444444444444444,
              "#bd3786"
             ],
             [
              0.5555555555555556,
              "#d8576b"
             ],
             [
              0.6666666666666666,
              "#ed7953"
             ],
             [
              0.7777777777777778,
              "#fb9f3a"
             ],
             [
              0.8888888888888888,
              "#fdca26"
             ],
             [
              1,
              "#f0f921"
             ]
            ],
            "type": "histogram2dcontour"
           }
          ],
          "mesh3d": [
           {
            "colorbar": {
             "outlinewidth": 0,
             "ticks": ""
            },
            "type": "mesh3d"
           }
          ],
          "parcoords": [
           {
            "line": {
             "colorbar": {
              "outlinewidth": 0,
              "ticks": ""
             }
            },
            "type": "parcoords"
           }
          ],
          "pie": [
           {
            "automargin": true,
            "type": "pie"
           }
          ],
          "scatter": [
           {
            "fillpattern": {
             "fillmode": "overlay",
             "size": 10,
             "solidity": 0.2
            },
            "type": "scatter"
           }
          ],
          "scatter3d": [
           {
            "line": {
             "colorbar": {
              "outlinewidth": 0,
              "ticks": ""
             }
            },
            "marker": {
             "colorbar": {
              "outlinewidth": 0,
              "ticks": ""
             }
            },
            "type": "scatter3d"
           }
          ],
          "scattercarpet": [
           {
            "marker": {
             "colorbar": {
              "outlinewidth": 0,
              "ticks": ""
             }
            },
            "type": "scattercarpet"
           }
          ],
          "scattergeo": [
           {
            "marker": {
             "colorbar": {
              "outlinewidth": 0,
              "ticks": ""
             }
            },
            "type": "scattergeo"
           }
          ],
          "scattergl": [
           {
            "marker": {
             "colorbar": {
              "outlinewidth": 0,
              "ticks": ""
             }
            },
            "type": "scattergl"
           }
          ],
          "scattermap": [
           {
            "marker": {
             "colorbar": {
              "outlinewidth": 0,
              "ticks": ""
             }
            },
            "type": "scattermap"
           }
          ],
          "scattermapbox": [
           {
            "marker": {
             "colorbar": {
              "outlinewidth": 0,
              "ticks": ""
             }
            },
            "type": "scattermapbox"
           }
          ],
          "scatterpolar": [
           {
            "marker": {
             "colorbar": {
              "outlinewidth": 0,
              "ticks": ""
             }
            },
            "type": "scatterpolar"
           }
          ],
          "scatterpolargl": [
           {
            "marker": {
             "colorbar": {
              "outlinewidth": 0,
              "ticks": ""
             }
            },
            "type": "scatterpolargl"
           }
          ],
          "scatterternary": [
           {
            "marker": {
             "colorbar": {
              "outlinewidth": 0,
              "ticks": ""
             }
            },
            "type": "scatterternary"
           }
          ],
          "surface": [
           {
            "colorbar": {
             "outlinewidth": 0,
             "ticks": ""
            },
            "colorscale": [
             [
              0,
              "#0d0887"
             ],
             [
              0.1111111111111111,
              "#46039f"
             ],
             [
              0.2222222222222222,
              "#7201a8"
             ],
             [
              0.3333333333333333,
              "#9c179e"
             ],
             [
              0.4444444444444444,
              "#bd3786"
             ],
             [
              0.5555555555555556,
              "#d8576b"
             ],
             [
              0.6666666666666666,
              "#ed7953"
             ],
             [
              0.7777777777777778,
              "#fb9f3a"
             ],
             [
              0.8888888888888888,
              "#fdca26"
             ],
             [
              1,
              "#f0f921"
             ]
            ],
            "type": "surface"
           }
          ],
          "table": [
           {
            "cells": {
             "fill": {
              "color": "#EBF0F8"
             },
             "line": {
              "color": "white"
             }
            },
            "header": {
             "fill": {
              "color": "#C8D4E3"
             },
             "line": {
              "color": "white"
             }
            },
            "type": "table"
           }
          ]
         },
         "layout": {
          "annotationdefaults": {
           "arrowcolor": "#2a3f5f",
           "arrowhead": 0,
           "arrowwidth": 1
          },
          "autotypenumbers": "strict",
          "coloraxis": {
           "colorbar": {
            "outlinewidth": 0,
            "ticks": ""
           }
          },
          "colorscale": {
           "diverging": [
            [
             0,
             "#8e0152"
            ],
            [
             0.1,
             "#c51b7d"
            ],
            [
             0.2,
             "#de77ae"
            ],
            [
             0.3,
             "#f1b6da"
            ],
            [
             0.4,
             "#fde0ef"
            ],
            [
             0.5,
             "#f7f7f7"
            ],
            [
             0.6,
             "#e6f5d0"
            ],
            [
             0.7,
             "#b8e186"
            ],
            [
             0.8,
             "#7fbc41"
            ],
            [
             0.9,
             "#4d9221"
            ],
            [
             1,
             "#276419"
            ]
           ],
           "sequential": [
            [
             0,
             "#0d0887"
            ],
            [
             0.1111111111111111,
             "#46039f"
            ],
            [
             0.2222222222222222,
             "#7201a8"
            ],
            [
             0.3333333333333333,
             "#9c179e"
            ],
            [
             0.4444444444444444,
             "#bd3786"
            ],
            [
             0.5555555555555556,
             "#d8576b"
            ],
            [
             0.6666666666666666,
             "#ed7953"
            ],
            [
             0.7777777777777778,
             "#fb9f3a"
            ],
            [
             0.8888888888888888,
             "#fdca26"
            ],
            [
             1,
             "#f0f921"
            ]
           ],
           "sequentialminus": [
            [
             0,
             "#0d0887"
            ],
            [
             0.1111111111111111,
             "#46039f"
            ],
            [
             0.2222222222222222,
             "#7201a8"
            ],
            [
             0.3333333333333333,
             "#9c179e"
            ],
            [
             0.4444444444444444,
             "#bd3786"
            ],
            [
             0.5555555555555556,
             "#d8576b"
            ],
            [
             0.6666666666666666,
             "#ed7953"
            ],
            [
             0.7777777777777778,
             "#fb9f3a"
            ],
            [
             0.8888888888888888,
             "#fdca26"
            ],
            [
             1,
             "#f0f921"
            ]
           ]
          },
          "colorway": [
           "#636efa",
           "#EF553B",
           "#00cc96",
           "#ab63fa",
           "#FFA15A",
           "#19d3f3",
           "#FF6692",
           "#B6E880",
           "#FF97FF",
           "#FECB52"
          ],
          "font": {
           "color": "#2a3f5f"
          },
          "geo": {
           "bgcolor": "white",
           "lakecolor": "white",
           "landcolor": "#E5ECF6",
           "showlakes": true,
           "showland": true,
           "subunitcolor": "white"
          },
          "hoverlabel": {
           "align": "left"
          },
          "hovermode": "closest",
          "mapbox": {
           "style": "light"
          },
          "paper_bgcolor": "white",
          "plot_bgcolor": "#E5ECF6",
          "polar": {
           "angularaxis": {
            "gridcolor": "white",
            "linecolor": "white",
            "ticks": ""
           },
           "bgcolor": "#E5ECF6",
           "radialaxis": {
            "gridcolor": "white",
            "linecolor": "white",
            "ticks": ""
           }
          },
          "scene": {
           "xaxis": {
            "backgroundcolor": "#E5ECF6",
            "gridcolor": "white",
            "gridwidth": 2,
            "linecolor": "white",
            "showbackground": true,
            "ticks": "",
            "zerolinecolor": "white"
           },
           "yaxis": {
            "backgroundcolor": "#E5ECF6",
            "gridcolor": "white",
            "gridwidth": 2,
            "linecolor": "white",
            "showbackground": true,
            "ticks": "",
            "zerolinecolor": "white"
           },
           "zaxis": {
            "backgroundcolor": "#E5ECF6",
            "gridcolor": "white",
            "gridwidth": 2,
            "linecolor": "white",
            "showbackground": true,
            "ticks": "",
            "zerolinecolor": "white"
           }
          },
          "shapedefaults": {
           "line": {
            "color": "#2a3f5f"
           }
          },
          "ternary": {
           "aaxis": {
            "gridcolor": "white",
            "linecolor": "white",
            "ticks": ""
           },
           "baxis": {
            "gridcolor": "white",
            "linecolor": "white",
            "ticks": ""
           },
           "bgcolor": "#E5ECF6",
           "caxis": {
            "gridcolor": "white",
            "linecolor": "white",
            "ticks": ""
           }
          },
          "title": {
           "x": 0.05
          },
          "xaxis": {
           "automargin": true,
           "gridcolor": "white",
           "linecolor": "white",
           "ticks": "",
           "title": {
            "standoff": 15
           },
           "zerolinecolor": "white",
           "zerolinewidth": 2
          },
          "yaxis": {
           "automargin": true,
           "gridcolor": "white",
           "linecolor": "white",
           "ticks": "",
           "title": {
            "standoff": 15
           },
           "zerolinecolor": "white",
           "zerolinewidth": 2
          }
         }
        },
        "title": {
         "text": "Top 200 Emojis Word Cloud (size = frequency)"
        },
        "xaxis": {
         "visible": false
        },
        "yaxis": {
         "visible": false
        }
       }
      }
     },
     "metadata": {},
     "output_type": "display_data"
    }
   ],
   "source": [
    "import plotly.graph_objects as go\n",
    "import numpy as np\n",
    "\n",
    "emoji_top200 = emoji_df.sort_values(by=\"count\", ascending=False).head(200).reset_index(drop=True)\n",
    "\n",
    "np.random.seed(42)\n",
    "x = np.random.rand(len(emoji_top200))\n",
    "y = np.random.rand(len(emoji_top200))\n",
    "\n",
    "sizes = (emoji_top200[\"count\"] / emoji_top200[\"count\"].max()) * 80 + 20  # between 20–100\n",
    "\n",
    "fig = go.Figure()\n",
    "\n",
    "for i, row in emoji_top200.iterrows():\n",
    "    fig.add_trace(go.Scatter(\n",
    "        x=[x[i]], \n",
    "        y=[y[i]], \n",
    "        mode=\"text\",\n",
    "        text=[row[\"emoji\"]],\n",
    "        textfont=dict(size=sizes[i]),\n",
    "        hovertext=f\"Emoji: {row['emoji']}<br>Count: {row['count']}<br>Positive: {row['positive_%']}%<br>Neutral: {row['neutral_%']}%<br>Negative: {row['negative_%']}%\",\n",
    "        hoverinfo=\"text\"\n",
    "    ))\n",
    "\n",
    "fig.update_layout(\n",
    "    title=\"Top 200 Emojis Word Cloud (size = frequency)\",\n",
    "    xaxis=dict(visible=False),\n",
    "    yaxis=dict(visible=False),\n",
    "    plot_bgcolor=\"white\",\n",
    "    showlegend=False\n",
    ")\n",
    "\n",
    "fig.write_html(\"emoji_wordcloud.html\")\n",
    "\n",
    "fig.show() "
   ]
  },
  {
   "cell_type": "markdown",
   "id": "4d82d13d",
   "metadata": {},
   "source": [
    "#### Top Positive / Negative / Neutral Emojis (Min Count = 250)"
   ]
  },
  {
   "cell_type": "code",
   "execution_count": 16,
   "id": "8c93192d",
   "metadata": {},
   "outputs": [
    {
     "data": {
      "application/vnd.plotly.v1+json": {
       "config": {
        "plotlyServerURL": "https://plot.ly"
       },
       "data": [
        {
         "alignmentgroup": "True",
         "hovertemplate": "Sentiment=Positive<br>emoji=%{text}<br>count=%{y}<extra></extra>",
         "legendgroup": "Positive",
         "marker": {
          "color": "#636efa",
          "pattern": {
           "shape": ""
          }
         },
         "name": "Positive",
         "offsetgroup": "Positive",
         "orientation": "v",
         "showlegend": true,
         "text": [
          "🎉",
          "👍",
          "💜",
          "💖",
          "😊"
         ],
         "textposition": "outside",
         "type": "bar",
         "x": [
          "🎉",
          "👍",
          "💜",
          "💖",
          "😊"
         ],
         "xaxis": "x",
         "y": {
          "bdata": "6QDjAPMA3QBCAQ==",
          "dtype": "i2"
         },
         "yaxis": "y"
        },
        {
         "alignmentgroup": "True",
         "hovertemplate": "Sentiment=Negative<br>emoji=%{text}<br>count=%{y}<extra></extra>",
         "legendgroup": "Negative",
         "marker": {
          "color": "#EF553B",
          "pattern": {
           "shape": ""
          }
         },
         "name": "Negative",
         "offsetgroup": "Negative",
         "orientation": "v",
         "showlegend": true,
         "text": [
          "💀",
          "🤦",
          "😭",
          "😩",
          "♀"
         ],
         "textposition": "outside",
         "type": "bar",
         "x": [
          "💀",
          "🤦",
          "😭",
          "😩",
          "♀"
         ],
         "xaxis": "x",
         "y": {
          "bdata": "zwD2ABkEYwGpAQ==",
          "dtype": "i2"
         },
         "yaxis": "y"
        },
        {
         "alignmentgroup": "True",
         "hovertemplate": "Sentiment=Neutral<br>emoji=%{text}<br>count=%{y}<extra></extra>",
         "legendgroup": "Neutral",
         "marker": {
          "color": "#00cc96",
          "pattern": {
           "shape": ""
          }
         },
         "name": "Neutral",
         "offsetgroup": "Neutral",
         "orientation": "v",
         "showlegend": true,
         "text": [
          "👀",
          "🤣",
          "🤔",
          "🔥",
          "👉"
         ],
         "textposition": "outside",
         "type": "bar",
         "x": [
          "👀",
          "🤣",
          "🤔",
          "🔥",
          "👉"
         ],
         "xaxis": "x",
         "y": {
          "bdata": "5AASAfgAOQMtAQ==",
          "dtype": "i2"
         },
         "yaxis": "y"
        }
       ],
       "layout": {
        "barmode": "group",
        "legend": {
         "title": {
          "text": "Sentiment"
         },
         "tracegroupgap": 0
        },
        "template": {
         "data": {
          "bar": [
           {
            "error_x": {
             "color": "#2a3f5f"
            },
            "error_y": {
             "color": "#2a3f5f"
            },
            "marker": {
             "line": {
              "color": "#E5ECF6",
              "width": 0.5
             },
             "pattern": {
              "fillmode": "overlay",
              "size": 10,
              "solidity": 0.2
             }
            },
            "type": "bar"
           }
          ],
          "barpolar": [
           {
            "marker": {
             "line": {
              "color": "#E5ECF6",
              "width": 0.5
             },
             "pattern": {
              "fillmode": "overlay",
              "size": 10,
              "solidity": 0.2
             }
            },
            "type": "barpolar"
           }
          ],
          "carpet": [
           {
            "aaxis": {
             "endlinecolor": "#2a3f5f",
             "gridcolor": "white",
             "linecolor": "white",
             "minorgridcolor": "white",
             "startlinecolor": "#2a3f5f"
            },
            "baxis": {
             "endlinecolor": "#2a3f5f",
             "gridcolor": "white",
             "linecolor": "white",
             "minorgridcolor": "white",
             "startlinecolor": "#2a3f5f"
            },
            "type": "carpet"
           }
          ],
          "choropleth": [
           {
            "colorbar": {
             "outlinewidth": 0,
             "ticks": ""
            },
            "type": "choropleth"
           }
          ],
          "contour": [
           {
            "colorbar": {
             "outlinewidth": 0,
             "ticks": ""
            },
            "colorscale": [
             [
              0,
              "#0d0887"
             ],
             [
              0.1111111111111111,
              "#46039f"
             ],
             [
              0.2222222222222222,
              "#7201a8"
             ],
             [
              0.3333333333333333,
              "#9c179e"
             ],
             [
              0.4444444444444444,
              "#bd3786"
             ],
             [
              0.5555555555555556,
              "#d8576b"
             ],
             [
              0.6666666666666666,
              "#ed7953"
             ],
             [
              0.7777777777777778,
              "#fb9f3a"
             ],
             [
              0.8888888888888888,
              "#fdca26"
             ],
             [
              1,
              "#f0f921"
             ]
            ],
            "type": "contour"
           }
          ],
          "contourcarpet": [
           {
            "colorbar": {
             "outlinewidth": 0,
             "ticks": ""
            },
            "type": "contourcarpet"
           }
          ],
          "heatmap": [
           {
            "colorbar": {
             "outlinewidth": 0,
             "ticks": ""
            },
            "colorscale": [
             [
              0,
              "#0d0887"
             ],
             [
              0.1111111111111111,
              "#46039f"
             ],
             [
              0.2222222222222222,
              "#7201a8"
             ],
             [
              0.3333333333333333,
              "#9c179e"
             ],
             [
              0.4444444444444444,
              "#bd3786"
             ],
             [
              0.5555555555555556,
              "#d8576b"
             ],
             [
              0.6666666666666666,
              "#ed7953"
             ],
             [
              0.7777777777777778,
              "#fb9f3a"
             ],
             [
              0.8888888888888888,
              "#fdca26"
             ],
             [
              1,
              "#f0f921"
             ]
            ],
            "type": "heatmap"
           }
          ],
          "histogram": [
           {
            "marker": {
             "pattern": {
              "fillmode": "overlay",
              "size": 10,
              "solidity": 0.2
             }
            },
            "type": "histogram"
           }
          ],
          "histogram2d": [
           {
            "colorbar": {
             "outlinewidth": 0,
             "ticks": ""
            },
            "colorscale": [
             [
              0,
              "#0d0887"
             ],
             [
              0.1111111111111111,
              "#46039f"
             ],
             [
              0.2222222222222222,
              "#7201a8"
             ],
             [
              0.3333333333333333,
              "#9c179e"
             ],
             [
              0.4444444444444444,
              "#bd3786"
             ],
             [
              0.5555555555555556,
              "#d8576b"
             ],
             [
              0.6666666666666666,
              "#ed7953"
             ],
             [
              0.7777777777777778,
              "#fb9f3a"
             ],
             [
              0.8888888888888888,
              "#fdca26"
             ],
             [
              1,
              "#f0f921"
             ]
            ],
            "type": "histogram2d"
           }
          ],
          "histogram2dcontour": [
           {
            "colorbar": {
             "outlinewidth": 0,
             "ticks": ""
            },
            "colorscale": [
             [
              0,
              "#0d0887"
             ],
             [
              0.1111111111111111,
              "#46039f"
             ],
             [
              0.2222222222222222,
              "#7201a8"
             ],
             [
              0.3333333333333333,
              "#9c179e"
             ],
             [
              0.4444444444444444,
              "#bd3786"
             ],
             [
              0.5555555555555556,
              "#d8576b"
             ],
             [
              0.6666666666666666,
              "#ed7953"
             ],
             [
              0.7777777777777778,
              "#fb9f3a"
             ],
             [
              0.8888888888888888,
              "#fdca26"
             ],
             [
              1,
              "#f0f921"
             ]
            ],
            "type": "histogram2dcontour"
           }
          ],
          "mesh3d": [
           {
            "colorbar": {
             "outlinewidth": 0,
             "ticks": ""
            },
            "type": "mesh3d"
           }
          ],
          "parcoords": [
           {
            "line": {
             "colorbar": {
              "outlinewidth": 0,
              "ticks": ""
             }
            },
            "type": "parcoords"
           }
          ],
          "pie": [
           {
            "automargin": true,
            "type": "pie"
           }
          ],
          "scatter": [
           {
            "fillpattern": {
             "fillmode": "overlay",
             "size": 10,
             "solidity": 0.2
            },
            "type": "scatter"
           }
          ],
          "scatter3d": [
           {
            "line": {
             "colorbar": {
              "outlinewidth": 0,
              "ticks": ""
             }
            },
            "marker": {
             "colorbar": {
              "outlinewidth": 0,
              "ticks": ""
             }
            },
            "type": "scatter3d"
           }
          ],
          "scattercarpet": [
           {
            "marker": {
             "colorbar": {
              "outlinewidth": 0,
              "ticks": ""
             }
            },
            "type": "scattercarpet"
           }
          ],
          "scattergeo": [
           {
            "marker": {
             "colorbar": {
              "outlinewidth": 0,
              "ticks": ""
             }
            },
            "type": "scattergeo"
           }
          ],
          "scattergl": [
           {
            "marker": {
             "colorbar": {
              "outlinewidth": 0,
              "ticks": ""
             }
            },
            "type": "scattergl"
           }
          ],
          "scattermap": [
           {
            "marker": {
             "colorbar": {
              "outlinewidth": 0,
              "ticks": ""
             }
            },
            "type": "scattermap"
           }
          ],
          "scattermapbox": [
           {
            "marker": {
             "colorbar": {
              "outlinewidth": 0,
              "ticks": ""
             }
            },
            "type": "scattermapbox"
           }
          ],
          "scatterpolar": [
           {
            "marker": {
             "colorbar": {
              "outlinewidth": 0,
              "ticks": ""
             }
            },
            "type": "scatterpolar"
           }
          ],
          "scatterpolargl": [
           {
            "marker": {
             "colorbar": {
              "outlinewidth": 0,
              "ticks": ""
             }
            },
            "type": "scatterpolargl"
           }
          ],
          "scatterternary": [
           {
            "marker": {
             "colorbar": {
              "outlinewidth": 0,
              "ticks": ""
             }
            },
            "type": "scatterternary"
           }
          ],
          "surface": [
           {
            "colorbar": {
             "outlinewidth": 0,
             "ticks": ""
            },
            "colorscale": [
             [
              0,
              "#0d0887"
             ],
             [
              0.1111111111111111,
              "#46039f"
             ],
             [
              0.2222222222222222,
              "#7201a8"
             ],
             [
              0.3333333333333333,
              "#9c179e"
             ],
             [
              0.4444444444444444,
              "#bd3786"
             ],
             [
              0.5555555555555556,
              "#d8576b"
             ],
             [
              0.6666666666666666,
              "#ed7953"
             ],
             [
              0.7777777777777778,
              "#fb9f3a"
             ],
             [
              0.8888888888888888,
              "#fdca26"
             ],
             [
              1,
              "#f0f921"
             ]
            ],
            "type": "surface"
           }
          ],
          "table": [
           {
            "cells": {
             "fill": {
              "color": "#EBF0F8"
             },
             "line": {
              "color": "white"
             }
            },
            "header": {
             "fill": {
              "color": "#C8D4E3"
             },
             "line": {
              "color": "white"
             }
            },
            "type": "table"
           }
          ]
         },
         "layout": {
          "annotationdefaults": {
           "arrowcolor": "#2a3f5f",
           "arrowhead": 0,
           "arrowwidth": 1
          },
          "autotypenumbers": "strict",
          "coloraxis": {
           "colorbar": {
            "outlinewidth": 0,
            "ticks": ""
           }
          },
          "colorscale": {
           "diverging": [
            [
             0,
             "#8e0152"
            ],
            [
             0.1,
             "#c51b7d"
            ],
            [
             0.2,
             "#de77ae"
            ],
            [
             0.3,
             "#f1b6da"
            ],
            [
             0.4,
             "#fde0ef"
            ],
            [
             0.5,
             "#f7f7f7"
            ],
            [
             0.6,
             "#e6f5d0"
            ],
            [
             0.7,
             "#b8e186"
            ],
            [
             0.8,
             "#7fbc41"
            ],
            [
             0.9,
             "#4d9221"
            ],
            [
             1,
             "#276419"
            ]
           ],
           "sequential": [
            [
             0,
             "#0d0887"
            ],
            [
             0.1111111111111111,
             "#46039f"
            ],
            [
             0.2222222222222222,
             "#7201a8"
            ],
            [
             0.3333333333333333,
             "#9c179e"
            ],
            [
             0.4444444444444444,
             "#bd3786"
            ],
            [
             0.5555555555555556,
             "#d8576b"
            ],
            [
             0.6666666666666666,
             "#ed7953"
            ],
            [
             0.7777777777777778,
             "#fb9f3a"
            ],
            [
             0.8888888888888888,
             "#fdca26"
            ],
            [
             1,
             "#f0f921"
            ]
           ],
           "sequentialminus": [
            [
             0,
             "#0d0887"
            ],
            [
             0.1111111111111111,
             "#46039f"
            ],
            [
             0.2222222222222222,
             "#7201a8"
            ],
            [
             0.3333333333333333,
             "#9c179e"
            ],
            [
             0.4444444444444444,
             "#bd3786"
            ],
            [
             0.5555555555555556,
             "#d8576b"
            ],
            [
             0.6666666666666666,
             "#ed7953"
            ],
            [
             0.7777777777777778,
             "#fb9f3a"
            ],
            [
             0.8888888888888888,
             "#fdca26"
            ],
            [
             1,
             "#f0f921"
            ]
           ]
          },
          "colorway": [
           "#636efa",
           "#EF553B",
           "#00cc96",
           "#ab63fa",
           "#FFA15A",
           "#19d3f3",
           "#FF6692",
           "#B6E880",
           "#FF97FF",
           "#FECB52"
          ],
          "font": {
           "color": "#2a3f5f"
          },
          "geo": {
           "bgcolor": "white",
           "lakecolor": "white",
           "landcolor": "#E5ECF6",
           "showlakes": true,
           "showland": true,
           "subunitcolor": "white"
          },
          "hoverlabel": {
           "align": "left"
          },
          "hovermode": "closest",
          "mapbox": {
           "style": "light"
          },
          "paper_bgcolor": "white",
          "plot_bgcolor": "#E5ECF6",
          "polar": {
           "angularaxis": {
            "gridcolor": "white",
            "linecolor": "white",
            "ticks": ""
           },
           "bgcolor": "#E5ECF6",
           "radialaxis": {
            "gridcolor": "white",
            "linecolor": "white",
            "ticks": ""
           }
          },
          "scene": {
           "xaxis": {
            "backgroundcolor": "#E5ECF6",
            "gridcolor": "white",
            "gridwidth": 2,
            "linecolor": "white",
            "showbackground": true,
            "ticks": "",
            "zerolinecolor": "white"
           },
           "yaxis": {
            "backgroundcolor": "#E5ECF6",
            "gridcolor": "white",
            "gridwidth": 2,
            "linecolor": "white",
            "showbackground": true,
            "ticks": "",
            "zerolinecolor": "white"
           },
           "zaxis": {
            "backgroundcolor": "#E5ECF6",
            "gridcolor": "white",
            "gridwidth": 2,
            "linecolor": "white",
            "showbackground": true,
            "ticks": "",
            "zerolinecolor": "white"
           }
          },
          "shapedefaults": {
           "line": {
            "color": "#2a3f5f"
           }
          },
          "ternary": {
           "aaxis": {
            "gridcolor": "white",
            "linecolor": "white",
            "ticks": ""
           },
           "baxis": {
            "gridcolor": "white",
            "linecolor": "white",
            "ticks": ""
           },
           "bgcolor": "#E5ECF6",
           "caxis": {
            "gridcolor": "white",
            "linecolor": "white",
            "ticks": ""
           }
          },
          "title": {
           "x": 0.05
          },
          "xaxis": {
           "automargin": true,
           "gridcolor": "white",
           "linecolor": "white",
           "ticks": "",
           "title": {
            "standoff": 15
           },
           "zerolinecolor": "white",
           "zerolinewidth": 2
          },
          "yaxis": {
           "automargin": true,
           "gridcolor": "white",
           "linecolor": "white",
           "ticks": "",
           "title": {
            "standoff": 15
           },
           "zerolinecolor": "white",
           "zerolinewidth": 2
          }
         }
        },
        "title": {
         "text": "Top Positive / Negative / Neutral Emojis (Count ≥ 200)"
        },
        "xaxis": {
         "anchor": "y",
         "domain": [
          0,
          1
         ],
         "title": {
          "text": "emoji"
         }
        },
        "yaxis": {
         "anchor": "x",
         "domain": [
          0,
          1
         ],
         "title": {
          "text": "count"
         }
        }
       }
      }
     },
     "metadata": {},
     "output_type": "display_data"
    }
   ],
   "source": [
    "min_count = 200\n",
    "filtered = emoji_df[emoji_df[\"count\"] >= min_count]\n",
    "\n",
    "top_pos = filtered.sort_values(\"positive_%\", ascending=False).head(5)\n",
    "top_neg = filtered.sort_values(\"negative_%\", ascending=False).head(5)\n",
    "top_neu = filtered.sort_values(\"neutral_%\", ascending=False).head(5)\n",
    "\n",
    "top_combined = (\n",
    "    pd.concat([\n",
    "        top_pos.assign(Sentiment=\"Positive\"),\n",
    "        top_neg.assign(Sentiment=\"Negative\"),\n",
    "        top_neu.assign(Sentiment=\"Neutral\")\n",
    "    ])\n",
    ")\n",
    "\n",
    "fig = px.bar(\n",
    "    top_combined,\n",
    "    x=\"emoji\",\n",
    "    y=\"count\",\n",
    "    color=\"Sentiment\",\n",
    "    barmode=\"group\",\n",
    "    text=\"emoji\",\n",
    "    title=\"Top Positive / Negative / Neutral Emojis (Count ≥ 200)\"\n",
    ")\n",
    "fig.update_traces(textposition=\"outside\")\n",
    "fig.write_html(\"top_sentiment_emojis.html\")\n",
    "\n",
    "fig.show()\n"
   ]
  },
  {
   "cell_type": "code",
   "execution_count": null,
   "id": "18d820c6",
   "metadata": {},
   "outputs": [],
   "source": []
  }
 ],
 "metadata": {
  "kernelspec": {
   "display_name": "Python 3",
   "language": "python",
   "name": "python3"
  },
  "language_info": {
   "codemirror_mode": {
    "name": "ipython",
    "version": 3
   },
   "file_extension": ".py",
   "mimetype": "text/x-python",
   "name": "python",
   "nbconvert_exporter": "python",
   "pygments_lexer": "ipython3",
   "version": "3.12.0"
  }
 },
 "nbformat": 4,
 "nbformat_minor": 5
}
